{
 "cells": [
  {
   "attachments": {},
   "cell_type": "markdown",
   "metadata": {},
   "source": [
    "# Performance Analysis: KSS/MFG & FA/MRA"
   ]
  },
  {
   "cell_type": "markdown",
   "metadata": {},
   "source": [
    "Acronyms:\n",
    "* KSS: Kevin Sanjaya Sukamuljo\n",
    "* MFG: Marcus Fernaldi Gideon\n",
    "* YW: Yuta Watanabe\n",
    "* HE: Hiroyuki Endo"
   ]
  },
  {
   "attachments": {},
   "cell_type": "markdown",
   "metadata": {},
   "source": [
    "## Business Questions"
   ]
  },
  {
   "attachments": {},
   "cell_type": "markdown",
   "metadata": {},
   "source": [
    "- why were KSS/MFG not as dominant? is there a play style change? or drop in individual performance level?\n",
    "- YW/HE are the only pair that could constantly beat KSS/MFG. why? what weaknesses did they exploit?"
   ]
  },
  {
   "attachments": {},
   "cell_type": "markdown",
   "metadata": {},
   "source": [
    "## General Stats"
   ]
  },
  {
   "attachments": {},
   "cell_type": "markdown",
   "metadata": {},
   "source": [
    "Ideas:\n",
    "\n",
    "minions h2h vs rivals trend per meeting:\n",
    "- dominance chart $\\rightarrow$ win loss difference, points for vs points against difference\n",
    "- li/liu, kam/son, endo/wat, aaron/soh, lee/wang, shetty/rankireddy, hoki/kobay, liu/ou, liang/wang, astrup/rasmussen, etc."
   ]
  },
  {
   "attachments": {},
   "cell_type": "markdown",
   "metadata": {},
   "source": [
    "### Minions Performance Trend"
   ]
  },
  {
   "attachments": {},
   "cell_type": "markdown",
   "metadata": {},
   "source": [
    "#### Scrape Data"
   ]
  },
  {
   "cell_type": "code",
   "execution_count": null,
   "metadata": {},
   "outputs": [],
   "source": [
    "# Web scrape fansite to get points, tournaments, ranking history. use selenium to iterate through weeks dropdown list, find kss & mfg points and scrape using beautifulsoup\n",
    "# https://bwf.tournamentsoftware.com/ranking/ranking.aspx?rid=70\n",
    "\n",
    "import time\n",
    "import pandas as pd\n",
    "import numpy as np\n",
    "from selenium import webdriver\n",
    "from selenium.webdriver.support.ui import Select\n",
    "from selenium.webdriver.common.by import By\n",
    "from selenium.webdriver.support.ui import WebDriverWait\n",
    "from selenium.webdriver.support import expected_conditions as EC\n",
    "\n",
    "player_id = 80057\n",
    "\n",
    "history = pd.DataFrame(columns=['week', 'rank', 'points', 'tournaments'])\n",
    "\n",
    "# open men's doubles rankings page\n",
    "driver = webdriver.Chrome()\n",
    "driver.get(\"https://bwf.tournamentsoftware.com/ranking\")\n",
    "driver.find_element(By.LINK_TEXT, \"BWF World Rankings\").click()\n",
    "driver.find_element(By.LINK_TEXT, \"Men's Doubles\").click()\n",
    "wait = WebDriverWait(driver, 10)\n",
    "\n",
    "# week options\n",
    "week_element = driver.find_element(By.ID,\"cphPage_cphPage_cphPage_dlPublication\")\n",
    "select_week = Select(week_element)\n",
    "\n",
    "for index in range(len(select_week.options)):\n",
    "    # wait until select week element is loaded\n",
    "    wait.until(EC.presence_of_element_located((By.ID, \"cphPage_cphPage_cphPage_dlPublication\")))    \n",
    "    week_element = driver.find_element(By.ID,\"cphPage_cphPage_cphPage_dlPublication\")\n",
    "    \n",
    "    # unhide week selector\n",
    "    driver.execute_script(\"arguments[0].style.removeProperty('display');\", week_element)\n",
    "    \n",
    "    # change week\n",
    "    select_week = Select(week_element)\n",
    "    week = select_week.options[index].get_attribute(\"innerHTML\") # get week\n",
    "    select_week.select_by_index(index)\n",
    "    \n",
    "    # wait until results per page element is loaded\n",
    "    wait.until(EC.presence_of_element_located((By.ID, \"_pagesize\")))\n",
    "    \n",
    "    # change results per page\n",
    "    select_results_per_page = Select(driver.find_element(By.ID,\"_pagesize\"))\n",
    "    select_results_per_page.select_by_index(3)\n",
    "    \n",
    "    # find player id\n",
    "    while True:\n",
    "        try:\n",
    "            wait.until(EC.presence_of_element_located((By.XPATH, f\"//*[text()[contains(., '{player_id}')]]//..\")))\n",
    "            \n",
    "        except:\n",
    "            try:\n",
    "                driver.find_element(By.CLASS_NAME, \"page_next\").click()\n",
    "                \n",
    "            except:\n",
    "                # if not in rankings, insert nans\n",
    "                rank = np.nan\n",
    "                points = np.nan\n",
    "                tournaments = np.nan\n",
    "                break\n",
    "        else:\n",
    "            pair = driver.find_element(By.XPATH, f\"//*[text()[contains(., '{player_id}')]]//..\")\n",
    "            rank = pair.find_element(By.XPATH, \".//*[contains(@class, 'rank')][1]//div\").get_attribute(\"innerHTML\")\n",
    "            points = pair.find_element(By.XPATH, \".//*[contains(@class, 'right rankingpoints')][1]\").get_attribute(\"innerHTML\")\n",
    "            tournaments = pair.find_element(By.XPATH, \".//*[contains(@class, 'right')][2]\").get_attribute(\"innerHTML\")\n",
    "            break\n",
    "\n",
    "    # save data to dataframe\n",
    "    history.at[index, 'week'] = week\n",
    "    history.at[index, 'rank'] = rank\n",
    "    history.at[index, 'points'] = points\n",
    "    history.at[index, 'tournaments'] = tournaments\n",
    "\n",
    "    time.sleep(2)\n",
    "    \n",
    "history.to_csv(\"ranking-history.csv\", index=False)"
   ]
  },
  {
   "cell_type": "code",
   "execution_count": 2,
   "metadata": {},
   "outputs": [
    {
     "data": {
      "text/html": [
       "<div>\n",
       "<style scoped>\n",
       "    .dataframe tbody tr th:only-of-type {\n",
       "        vertical-align: middle;\n",
       "    }\n",
       "\n",
       "    .dataframe tbody tr th {\n",
       "        vertical-align: top;\n",
       "    }\n",
       "\n",
       "    .dataframe thead th {\n",
       "        text-align: right;\n",
       "    }\n",
       "</style>\n",
       "<table border=\"1\" class=\"dataframe\">\n",
       "  <thead>\n",
       "    <tr style=\"text-align: right;\">\n",
       "      <th></th>\n",
       "      <th>week</th>\n",
       "      <th>rank</th>\n",
       "      <th>points</th>\n",
       "      <th>tournaments</th>\n",
       "    </tr>\n",
       "  </thead>\n",
       "  <tbody>\n",
       "    <tr>\n",
       "      <th>0</th>\n",
       "      <td>2024-07-02</td>\n",
       "      <td>200.0</td>\n",
       "      <td>6350.0</td>\n",
       "      <td>2.0</td>\n",
       "    </tr>\n",
       "    <tr>\n",
       "      <th>1</th>\n",
       "      <td>2024-06-25</td>\n",
       "      <td>199.0</td>\n",
       "      <td>6350.0</td>\n",
       "      <td>2.0</td>\n",
       "    </tr>\n",
       "    <tr>\n",
       "      <th>2</th>\n",
       "      <td>2024-06-18</td>\n",
       "      <td>202.0</td>\n",
       "      <td>6350.0</td>\n",
       "      <td>2.0</td>\n",
       "    </tr>\n",
       "    <tr>\n",
       "      <th>3</th>\n",
       "      <td>2024-06-11</td>\n",
       "      <td>200.0</td>\n",
       "      <td>6350.0</td>\n",
       "      <td>2.0</td>\n",
       "    </tr>\n",
       "    <tr>\n",
       "      <th>4</th>\n",
       "      <td>2024-06-04</td>\n",
       "      <td>203.0</td>\n",
       "      <td>6350.0</td>\n",
       "      <td>2.0</td>\n",
       "    </tr>\n",
       "  </tbody>\n",
       "</table>\n",
       "</div>"
      ],
      "text/plain": [
       "         week   rank  points  tournaments\n",
       "0  2024-07-02  200.0  6350.0          2.0\n",
       "1  2024-06-25  199.0  6350.0          2.0\n",
       "2  2024-06-18  202.0  6350.0          2.0\n",
       "3  2024-06-11  200.0  6350.0          2.0\n",
       "4  2024-06-04  203.0  6350.0          2.0"
      ]
     },
     "execution_count": 2,
     "metadata": {},
     "output_type": "execute_result"
    }
   ],
   "source": [
    "# convert datatypes\n",
    "from datetime import datetime\n",
    "import pandas as pd\n",
    "\n",
    "history = pd.read_csv('ranking-history.csv')\n",
    "\n",
    "date_format = \"%m/%d/%Y\"\n",
    "dates = []\n",
    "\n",
    "for date_string in history['week']:\n",
    "    week = datetime.strptime(date_string, date_format).date()\n",
    "    dates.append(week)\n",
    "\n",
    "history['week'] = dates\n",
    "history['rank'] = pd.to_numeric(history['rank'], errors = 'coerce')\n",
    "history['points'] = pd.to_numeric(history['points'], errors = 'coerce')\n",
    "history['tournaments'] = pd.to_numeric(history['tournaments'], errors = 'coerce')\n",
    "\n",
    "history.head(5)"
   ]
  },
  {
   "cell_type": "code",
   "execution_count": 31,
   "metadata": {},
   "outputs": [],
   "source": [
    "# get player wikipedia page\n",
    "from bs4 import BeautifulSoup\n",
    "import requests\n",
    "\n",
    "page = requests.get(\"https://en.wikipedia.org/wiki/Kevin_Sanjaya_Sukamuljo\")\n",
    "soup = BeautifulSoup(page.content, \"html.parser\")\n",
    "tables = soup.find_all(\"table\", class_ = \"wikitable\")\n",
    "\n",
    "# get BWF tournaments results\n",
    "rows = tables[18].find_all(\"tr\") \n",
    "years = [year.text.strip() for year in rows[1].find_all(\"th\")]\n",
    "\n",
    "tournament_results = pd.DataFrame()\n",
    "\n",
    "tournament_results['year'] = years\n",
    "\n",
    "for row in rows[2:30]: #iterate through tournament rows\n",
    "    columns = row.find_all(\"td\")\n",
    "    tournament_name = columns[0].text.strip()\n",
    "    results = []\n",
    "    \n",
    "    for column in columns[1:-2]: # iterate through results (columns)\n",
    "        if 'colspan' in column.attrs: # consecutive results \n",
    "            for colspan in range(int(column.attrs['colspan'])):\n",
    "                results.append(column.text.strip())\n",
    "        else:\n",
    "            results.append(column.text.strip())\n",
    "    \n",
    "    if len(results) > 0:\n",
    "        tournament_results[tournament_name] = results\n",
    "        \n",
    "tournament_results.to_csv('tournament-results.csv', index=False)"
   ]
  },
  {
   "cell_type": "code",
   "execution_count": 4,
   "metadata": {},
   "outputs": [],
   "source": [
    "# generate performance trend\n",
    "import pandas as pd\n",
    "\n",
    "tournament_results = pd.read_csv('tournament-results.csv')\n",
    "\n",
    "did_not_participate = ['A', 'NH', 'N/A', 'w/d', 'DNQ', 'NA','']\n",
    "\n",
    "columns = tournament_results.columns[1:] # list of tournaments\n",
    "\n",
    "no_of_tournaments = []\n",
    "avg_points_earned_percentage = []\n",
    "total_top_four = []\n",
    "total_finals = []\n",
    "total_titles = []\n",
    "\n",
    "for year in tournament_results['year']: #iterate through years\n",
    "    tournament_count = 0\n",
    "    points_earned_percentage = 0\n",
    "    top_four = 0\n",
    "    finals = 0\n",
    "    titles = 0\n",
    "    \n",
    "    for column in columns:  #iterate through tournaments\n",
    "        result = tournament_results.loc[tournament_results['year'] == year][column].iloc[0] # tournament result\n",
    "        \n",
    "        if result not in did_not_participate:\n",
    "            tournament_count += 1\n",
    "            \n",
    "            if result == '1R':\n",
    "                points_earned_percentage += 0.25\n",
    "            elif result == '2R':\n",
    "                points_earned_percentage += 0.4\n",
    "            elif result == 'QF':\n",
    "                points_earned_percentage += 0.55\n",
    "            elif result == 'SF':\n",
    "                points_earned_percentage += 0.7\n",
    "                top_four += 1\n",
    "            elif result == 'F':\n",
    "                points_earned_percentage += 0.85\n",
    "                top_four += 1\n",
    "                finals += 1\n",
    "            elif result == 'W':\n",
    "                points_earned_percentage += 1\n",
    "                top_four += 1\n",
    "                finals += 1\n",
    "                titles += 1\n",
    "    \n",
    "    no_of_tournaments.append(tournament_count)\n",
    "    avg_points_earned_percentage.append(points_earned_percentage/tournament_count)\n",
    "    total_top_four.append(top_four)\n",
    "    total_finals.append(finals)\n",
    "    total_titles.append(titles)\n",
    "    \n",
    "performance_trend = pd.DataFrame()\n",
    "\n",
    "performance_trend['year'] = tournament_results['year'].astype(int)\n",
    "performance_trend['no_of_tournaments'] = no_of_tournaments\n",
    "performance_trend['titles'] = total_titles\n",
    "performance_trend['finals'] = total_finals\n",
    "performance_trend['top_four'] = total_top_four\n",
    "performance_trend['avg_points_percentage_per_tournament'] = avg_points_earned_percentage\n",
    "        "
   ]
  },
  {
   "cell_type": "code",
   "execution_count": 5,
   "metadata": {},
   "outputs": [],
   "source": [
    "# end of year rankings & points\n",
    "import numpy as np\n",
    "\n",
    "history['week'] = pd.to_datetime(history['week'], errors='coerce')\n",
    "\n",
    "years = np.unique(history['week'].dt.year)\n",
    "end_of_year_rank = []\n",
    "end_of_year_points = []\n",
    "end_of_year_tournaments = []\n",
    "\n",
    "for year in years:\n",
    "    # get data from last day of year\n",
    "    last_day_of_year = history.loc[history['week'].dt.year == year].sort_values(by='week', ascending=False).reset_index(drop=True)\n",
    "    end_of_year_rank.append(last_day_of_year['rank'][0])\n",
    "    end_of_year_points.append(last_day_of_year['points'][0])\n",
    "    end_of_year_tournaments.append(last_day_of_year['tournaments'][0])\n",
    "\n",
    "# join to performance trend table\n",
    "end_of_year_results = pd.DataFrame()\n",
    "end_of_year_results['year'] = years\n",
    "end_of_year_results['end_of_year_rank'] = end_of_year_rank\n",
    "end_of_year_results['end_of_year_points'] = end_of_year_points\n",
    "end_of_year_results['tournaments_included_in_rank'] = end_of_year_tournaments\n",
    "\n",
    "performance_trend = pd.merge(performance_trend, end_of_year_results, how='outer', on='year')"
   ]
  },
  {
   "attachments": {},
   "cell_type": "markdown",
   "metadata": {},
   "source": [
    "#### When did the minions' results start to drop?"
   ]
  },
  {
   "cell_type": "code",
   "execution_count": 3,
   "metadata": {},
   "outputs": [
    {
     "data": {
      "application/vnd.plotly.v1+json": {
       "config": {
        "plotlyServerURL": "https://plot.ly"
       },
       "data": [
        {
         "line": {
          "color": "blue"
         },
         "mode": "lines",
         "name": "points",
         "type": "scatter",
         "x": [
          "2024-07-02",
          "2024-06-25",
          "2024-06-18",
          "2024-06-11",
          "2024-06-04",
          "2024-05-28",
          "2024-05-21",
          "2024-05-14",
          "2024-05-07",
          "2024-04-30",
          "2024-04-23",
          "2024-04-16",
          "2024-04-09",
          "2024-04-02",
          "2024-03-26",
          "2024-03-19",
          "2024-03-12",
          "2024-03-05",
          "2024-02-27",
          "2024-02-20",
          "2024-02-13",
          "2024-02-06",
          "2024-01-30",
          "2024-01-23",
          "2024-01-16",
          "2024-01-09",
          "2024-01-02",
          "2023-12-26",
          "2023-12-19",
          "2023-12-12",
          "2023-12-05",
          "2023-11-28",
          "2023-11-21",
          "2023-11-14",
          "2023-11-07",
          "2023-10-31",
          "2023-10-24",
          "2023-10-17",
          "2023-10-10",
          "2023-10-03",
          "2023-09-26",
          "2023-09-19",
          "2023-09-12",
          "2023-09-05",
          "2023-08-29",
          "2023-08-22",
          "2023-08-15",
          "2023-08-08",
          "2023-08-01",
          "2023-07-25",
          "2023-07-18",
          "2023-07-11",
          "2023-07-04",
          "2023-06-27",
          "2023-06-20",
          "2023-06-13",
          "2023-06-06",
          "2023-05-30",
          "2023-05-23",
          "2023-05-16",
          "2023-05-09",
          "2023-05-02",
          "2023-04-25",
          "2023-04-18",
          "2023-04-11",
          "2023-04-04",
          "2023-03-28",
          "2023-03-21",
          "2023-03-14",
          "2023-03-07",
          "2023-02-28",
          "2023-02-21",
          "2023-02-14",
          "2023-02-07",
          "2023-01-31",
          "2023-01-24",
          "2023-01-17",
          "2023-01-10",
          "2023-01-03",
          "2022-12-27",
          "2022-12-20",
          "2022-12-13",
          "2022-12-06",
          "2022-11-29",
          "2022-11-22",
          "2022-11-15",
          "2022-11-08",
          "2022-11-01",
          "2022-10-25",
          "2022-10-18",
          "2022-10-11",
          "2022-10-04",
          "2022-09-27",
          "2022-09-20",
          "2022-09-13",
          "2022-09-06",
          "2022-08-30",
          "2022-08-23",
          "2022-08-16",
          "2022-08-09",
          "2022-08-02",
          "2022-07-26",
          "2022-07-19",
          "2022-07-12",
          "2022-07-05",
          "2022-06-28",
          "2022-06-21",
          "2022-06-14",
          "2022-06-07",
          "2022-05-31",
          "2022-05-24",
          "2022-05-17",
          "2022-05-10",
          "2022-05-03",
          "2022-04-26",
          "2022-04-19",
          "2022-04-12",
          "2022-04-05",
          "2022-03-29",
          "2022-03-22",
          "2022-03-15",
          "2022-03-08",
          "2022-03-01",
          "2022-02-22",
          "2022-02-15",
          "2022-02-08",
          "2022-02-01",
          "2022-01-25",
          "2022-01-18",
          "2022-01-11",
          "2022-01-04",
          "2021-12-28",
          "2021-12-21",
          "2021-12-14",
          "2021-12-07",
          "2021-11-30",
          "2021-11-23",
          "2021-11-16",
          "2021-11-09",
          "2021-11-02",
          "2021-10-26",
          "2021-10-19",
          "2021-10-12",
          "2021-10-05",
          "2021-09-28",
          "2021-09-21",
          "2021-09-14",
          "2021-09-07",
          "2021-08-31",
          "2021-08-24",
          "2021-08-17",
          "2021-08-10",
          "2021-08-03",
          "2021-07-27",
          "2021-07-20",
          "2021-07-13",
          "2021-07-06",
          "2021-06-29",
          "2021-06-22",
          "2021-06-15",
          "2021-06-08",
          "2021-06-01",
          "2021-05-25",
          "2021-05-18",
          "2021-05-11",
          "2021-05-04",
          "2021-04-27",
          "2021-04-20",
          "2021-04-13",
          "2021-04-06",
          "2021-03-30",
          "2021-03-23",
          "2021-03-16",
          "2021-03-09",
          "2021-03-02",
          "2021-02-23",
          "2021-02-16",
          "2021-02-09",
          "2021-02-02",
          "2020-12-15",
          "2020-11-24",
          "2020-11-10",
          "2020-11-03",
          "2020-10-20",
          "2020-10-06",
          "2020-09-01",
          "2020-03-17",
          "2020-03-10",
          "2020-03-03",
          "2020-02-25",
          "2020-02-18",
          "2020-02-11",
          "2020-02-04",
          "2020-01-28",
          "2020-01-21",
          "2020-01-14",
          "2020-01-07",
          "2019-12-31",
          "2019-12-24",
          "2019-12-17",
          "2019-12-10",
          "2019-12-03",
          "2019-11-26",
          "2019-11-19",
          "2019-11-12",
          "2019-11-05",
          "2019-10-29",
          "2019-10-22",
          "2019-10-15",
          "2019-10-08",
          "2019-10-01",
          "2019-09-24",
          "2019-09-17",
          "2019-09-10",
          "2019-09-03",
          "2019-08-27",
          "2019-08-20",
          "2019-08-13",
          "2019-08-06",
          "2019-07-30",
          "2019-07-23",
          "2019-07-16",
          "2019-07-09",
          "2019-07-02",
          "2019-06-25",
          "2019-06-18",
          "2019-06-11",
          "2019-06-04",
          "2019-05-28",
          "2019-05-21",
          "2019-05-14",
          "2019-05-07",
          "2019-04-30",
          "2019-04-23",
          "2019-04-16",
          "2019-04-09",
          "2019-04-02",
          "2019-03-26",
          "2019-03-19",
          "2019-03-12",
          "2019-03-05",
          "2019-02-26",
          "2019-02-19",
          "2019-02-12",
          "2019-02-05",
          "2019-01-29",
          "2019-01-22",
          "2019-01-15",
          "2019-01-08",
          "2019-01-02",
          "2018-12-27",
          "2018-12-20",
          "2018-12-13",
          "2018-12-06",
          "2018-11-29",
          "2018-11-22",
          "2018-11-15",
          "2018-11-08",
          "2018-11-01",
          "2018-10-25",
          "2018-10-18",
          "2018-10-11",
          "2018-10-04",
          "2018-09-27",
          "2018-09-20",
          "2018-09-13",
          "2018-09-06",
          "2018-08-30",
          "2018-08-23",
          "2018-08-16",
          "2018-08-09",
          "2018-08-02",
          "2018-07-26",
          "2018-07-19",
          "2018-07-12",
          "2018-07-05",
          "2018-06-28",
          "2018-06-21",
          "2018-06-14",
          "2018-06-07",
          "2018-05-31",
          "2018-05-24",
          "2018-05-17",
          "2018-05-10",
          "2018-05-03",
          "2018-04-26",
          "2018-04-19",
          "2018-04-12",
          "2018-04-05",
          "2018-03-29",
          "2018-03-22",
          "2018-03-15",
          "2018-03-08",
          "2018-03-01",
          "2018-02-22",
          "2018-02-15",
          "2018-02-08",
          "2018-02-02",
          "2018-01-25",
          "2018-01-18",
          "2018-01-11",
          "2018-01-04",
          "2017-12-28",
          "2017-12-21",
          "2017-12-14",
          "2017-12-07",
          "2017-11-30",
          "2017-11-23",
          "2017-11-16",
          "2017-11-09",
          "2017-11-02",
          "2017-10-26",
          "2017-10-19",
          "2017-10-12",
          "2017-10-05",
          "2017-09-28",
          "2017-09-21",
          "2017-09-14",
          "2017-09-07",
          "2017-08-30",
          "2017-08-24",
          "2017-08-17",
          "2017-08-10",
          "2017-08-03",
          "2017-07-27",
          "2017-07-20",
          "2017-07-13",
          "2017-07-06",
          "2017-06-29",
          "2017-06-22",
          "2017-06-15",
          "2017-06-08",
          "2017-06-01",
          "2017-05-25",
          "2017-05-18",
          "2017-05-11",
          "2017-05-04",
          "2017-04-27",
          "2017-04-20",
          "2017-04-13",
          "2017-04-06",
          "2017-03-30",
          "2017-03-23",
          "2017-03-16",
          "2017-03-09",
          "2017-03-02",
          "2017-02-23",
          "2017-02-16",
          "2017-02-10",
          "2017-02-02",
          "2017-01-26",
          "2017-01-19",
          "2017-01-12",
          "2017-01-05",
          "2016-12-29",
          "2016-12-22",
          "2016-12-15",
          "2016-12-08",
          "2016-12-01",
          "2016-11-24",
          "2016-11-17",
          "2016-11-10",
          "2016-11-03",
          "2016-10-27",
          "2016-10-20",
          "2016-10-13",
          "2016-10-06",
          "2016-09-29",
          "2016-09-22",
          "2016-09-15",
          "2016-09-08",
          "2016-09-01",
          "2016-08-25",
          "2016-08-18",
          "2016-08-11",
          "2016-08-04",
          "2016-07-28",
          "2016-07-21",
          "2016-07-14",
          "2016-07-08",
          "2016-06-30",
          "2016-06-23",
          "2016-06-16",
          "2016-06-09",
          "2016-06-02",
          "2016-05-26",
          "2016-05-19",
          "2016-05-12",
          "2016-05-05",
          "2016-04-28",
          "2016-04-21",
          "2016-04-14",
          "2016-04-07",
          "2016-03-31",
          "2016-03-24",
          "2016-03-17",
          "2016-03-10",
          "2016-03-03",
          "2016-02-25",
          "2016-02-18",
          "2016-02-11",
          "2016-02-04",
          "2016-01-28",
          "2016-01-21",
          "2016-01-14",
          "2016-01-07",
          "2015-12-31",
          "2015-12-23",
          "2015-12-17",
          "2015-12-10",
          "2015-12-03",
          "2015-11-26",
          "2015-11-19",
          "2015-11-12",
          "2015-11-05",
          "2015-10-29",
          "2015-10-22",
          "2015-10-15",
          "2015-10-08",
          "2015-10-01",
          "2015-09-23",
          "2015-09-17",
          "2015-09-10",
          "2015-09-03",
          "2015-08-27",
          "2015-08-20",
          "2015-08-13",
          "2015-08-06",
          "2015-07-30",
          "2015-07-23",
          "2015-07-16",
          "2015-07-09",
          "2015-07-02",
          "2015-06-25",
          "2015-06-18",
          "2015-06-11",
          "2015-06-04",
          "2015-05-28",
          "2015-05-21",
          "2015-05-14",
          "2015-05-07",
          "2015-04-30",
          "2015-04-23",
          "2015-04-16",
          "2015-04-09",
          "2015-04-02",
          "2015-03-26",
          "2015-03-19",
          "2015-03-12",
          "2015-03-05",
          "2015-02-26",
          "2015-02-18",
          "2015-02-12",
          "2015-02-05",
          "2015-01-29",
          "2015-01-22",
          "2015-01-15",
          "2015-01-08",
          "2015-01-02",
          "2014-12-24",
          "2014-12-18",
          "2014-12-11",
          "2014-12-04",
          "2014-11-27",
          "2014-11-20",
          "2014-11-13",
          "2014-11-06",
          "2014-10-30",
          "2014-10-23",
          "2014-10-16",
          "2014-10-09",
          "2014-10-02",
          "2014-09-25",
          "2014-09-18",
          "2014-09-11",
          "2014-09-04",
          "2014-08-28",
          "2014-08-21",
          "2014-08-14",
          "2014-08-07",
          "2014-07-31",
          "2014-07-24",
          "2014-07-17",
          "2014-07-10",
          "2014-07-03",
          "2014-06-26",
          "2014-06-19",
          "2014-06-12",
          "2014-06-05",
          "2014-05-29",
          "2014-05-22",
          "2014-05-15",
          "2014-05-08",
          "2014-05-02",
          "2014-04-24",
          "2014-04-17",
          "2014-04-10",
          "2014-04-03",
          "2014-03-27",
          "2014-03-20",
          "2014-03-13",
          "2014-03-06",
          "2014-02-27",
          "2014-02-20",
          "2014-02-13",
          "2014-02-06",
          "2014-01-30",
          "2014-01-23",
          "2014-01-16",
          "2014-01-09",
          "2014-01-02",
          "2013-12-26",
          "2013-12-19",
          "2013-12-12",
          "2013-12-05",
          "2013-11-28",
          "2013-11-21",
          "2013-11-14",
          "2013-11-07",
          "2013-10-31",
          "2013-10-24",
          "2013-10-17",
          "2013-10-10",
          "2013-10-03",
          "2013-09-26",
          "2013-09-19",
          "2013-09-12",
          "2013-09-05",
          "2013-08-29",
          "2013-08-22",
          "2013-08-15",
          "2013-08-07",
          "2013-08-01",
          "2013-07-25",
          "2013-07-18",
          "2013-07-11",
          "2013-07-04",
          "2013-06-27",
          "2013-06-20",
          "2013-06-13",
          "2013-06-06",
          "2013-05-30",
          "2013-05-23",
          "2013-05-16",
          "2013-05-09",
          "2013-05-02",
          "2013-04-25",
          "2013-04-18",
          "2013-04-11",
          "2013-04-04",
          "2013-03-28",
          "2013-03-21",
          "2013-03-14",
          "2013-03-07",
          "2013-02-28",
          "2013-02-21",
          "2013-02-14",
          "2013-02-07",
          "2013-01-31",
          "2013-01-25",
          "2013-01-17",
          "2013-01-10",
          "2013-01-03",
          "2012-12-27",
          "2012-12-20",
          "2012-12-13",
          "2012-12-06",
          "2012-11-29",
          "2012-11-22",
          "2012-11-16",
          "2012-11-08",
          "2012-11-01",
          "2012-10-25",
          "2012-10-18",
          "2012-10-11",
          "2012-10-04",
          "2012-09-27",
          "2012-09-20",
          "2012-09-13",
          "2012-09-06",
          "2012-08-30",
          "2012-08-23",
          "2012-08-16",
          "2012-08-09",
          "2012-08-02",
          "2012-07-26",
          "2012-07-19",
          "2012-07-12",
          "2012-07-05",
          "2012-06-28",
          "2012-06-21",
          "2012-06-14",
          "2012-06-07",
          "2012-05-31",
          "2012-05-24",
          "2012-05-17",
          "2012-05-10",
          "2012-05-03",
          "2012-04-26",
          "2012-04-19",
          "2012-04-12",
          "2012-04-05",
          "2012-03-29",
          "2012-03-22",
          "2012-03-15",
          "2012-03-08",
          "2012-03-01",
          "2012-02-23",
          "2012-02-16",
          "2012-02-09",
          "2012-02-02",
          "2012-01-26",
          "2012-01-19",
          "2012-01-12",
          "2012-01-05",
          "2011-12-29",
          "2011-12-22",
          "2011-12-15",
          "2011-12-08",
          "2011-12-01",
          "2011-11-24",
          "2011-11-17",
          "2011-11-10",
          "2011-11-03",
          "2011-10-27",
          "2011-10-20",
          "2011-10-13",
          "2011-10-06",
          "2011-09-29",
          "2011-09-22",
          "2011-09-15",
          "2011-09-08",
          "2011-09-02",
          "2011-08-25",
          "2011-08-18",
          "2011-08-11",
          "2011-08-04",
          "2011-07-28",
          "2011-07-21",
          "2011-07-14",
          "2011-07-07",
          "2011-06-30",
          "2011-06-23",
          "2011-06-16",
          "2011-06-09",
          "2011-06-02",
          "2011-05-26",
          "2011-05-19",
          "2011-05-12",
          "2011-05-05",
          "2011-04-28",
          "2011-04-21",
          "2011-04-14",
          "2011-04-07",
          "2011-03-31",
          "2011-03-24",
          "2011-03-17",
          "2011-03-10",
          "2011-03-03",
          "2011-02-24",
          "2011-02-17",
          "2011-02-10",
          "2011-01-27",
          "2011-02-03",
          "2011-01-20",
          "2011-01-13",
          "2011-01-06",
          "2010-12-30",
          "2010-12-23",
          "2010-12-16",
          "2010-12-09",
          "2010-12-02",
          "2010-11-25",
          "2010-11-18",
          "2010-11-11",
          "2010-11-04",
          "2010-10-28",
          "2010-10-21",
          "2010-10-14",
          "2010-10-07",
          "2010-09-30",
          "2010-09-23",
          "2010-09-16",
          "2010-09-09",
          "2010-09-02",
          "2010-08-26",
          "2010-08-19",
          "2010-08-12",
          "2010-08-05",
          "2010-07-29",
          "2010-07-22",
          "2010-07-15",
          "2010-07-08",
          "2010-07-01"
         ],
         "xaxis": "x",
         "y": [
          200,
          199,
          202,
          200,
          203,
          205,
          182,
          86,
          85,
          83,
          83,
          83,
          81,
          81,
          81,
          81,
          82,
          82,
          83,
          84,
          84,
          83,
          87,
          72,
          53,
          40,
          40,
          40,
          40,
          39,
          39,
          39,
          38,
          38,
          36,
          36,
          32,
          23,
          22,
          22,
          22,
          22,
          22,
          21,
          21,
          19,
          19,
          19,
          18,
          17,
          17,
          17,
          17,
          16,
          16,
          15,
          16,
          17,
          18,
          21,
          22,
          22,
          26,
          26,
          26,
          26,
          26,
          24,
          19,
          19,
          19,
          19,
          19,
          19,
          19,
          18,
          19,
          23,
          23,
          23,
          8,
          2,
          2,
          2,
          2,
          2,
          2,
          2,
          2,
          3,
          3,
          2,
          3,
          2,
          1,
          1,
          1,
          1,
          1,
          1,
          1,
          1,
          1,
          1,
          1,
          1,
          1,
          1,
          1,
          1,
          1,
          1,
          1,
          1,
          1,
          1,
          1,
          1,
          1,
          1,
          1,
          1,
          1,
          1,
          1,
          1,
          1,
          1,
          1,
          1,
          1,
          1,
          1,
          1,
          1,
          1,
          1,
          1,
          1,
          1,
          1,
          1,
          1,
          1,
          1,
          1,
          1,
          1,
          1,
          1,
          1,
          1,
          1,
          1,
          1,
          1,
          1,
          1,
          1,
          1,
          1,
          1,
          1,
          1,
          1,
          1,
          1,
          1,
          1,
          1,
          1,
          1,
          1,
          1,
          1,
          1,
          1,
          1,
          1,
          1,
          1,
          1,
          1,
          1,
          1,
          1,
          1,
          1,
          1,
          1,
          1,
          1,
          1,
          1,
          1,
          1,
          1,
          1,
          1,
          1,
          1,
          1,
          1,
          1,
          1,
          1,
          1,
          1,
          1,
          1,
          1,
          1,
          1,
          1,
          1,
          1,
          1,
          1,
          1,
          1,
          1,
          1,
          1,
          1,
          1,
          1,
          1,
          1,
          1,
          1,
          1,
          1,
          1,
          1,
          1,
          1,
          1,
          1,
          1,
          1,
          1,
          1,
          1,
          1,
          1,
          1,
          1,
          1,
          1,
          1,
          1,
          1,
          1,
          1,
          1,
          1,
          1,
          1,
          1,
          1,
          1,
          1,
          1,
          1,
          1,
          1,
          1,
          1,
          1,
          1,
          1,
          1,
          1,
          1,
          1,
          1,
          1,
          1,
          1,
          1,
          1,
          1,
          1,
          1,
          1,
          1,
          1,
          1,
          1,
          1,
          1,
          1,
          1,
          1,
          1,
          1,
          1,
          1,
          1,
          1,
          1,
          1,
          1,
          1,
          1,
          1,
          1,
          1,
          1,
          1,
          1,
          1,
          1,
          1,
          1,
          1,
          2,
          3,
          3,
          3,
          3,
          3,
          3,
          3,
          3,
          3,
          3,
          3,
          3,
          3,
          3,
          1,
          1,
          1,
          1,
          1,
          1,
          1,
          1,
          1,
          2,
          1,
          1,
          1,
          5,
          5,
          5,
          5,
          5,
          5,
          5,
          2,
          2,
          2,
          2,
          2,
          4,
          4,
          4,
          4,
          7,
          7,
          10,
          11,
          13,
          13,
          12,
          11,
          11,
          11,
          11,
          11,
          11,
          11,
          11,
          11,
          11,
          11,
          11,
          11,
          10,
          10,
          10,
          13,
          12,
          12,
          13,
          13,
          13,
          13,
          14,
          14,
          16,
          17,
          20,
          16,
          14,
          14,
          14,
          14,
          14,
          14,
          14,
          16,
          16,
          16,
          16,
          16,
          16,
          16,
          16,
          16,
          18,
          17,
          19,
          17,
          18,
          22,
          22,
          28,
          28,
          30,
          31,
          32,
          36,
          36,
          36,
          36,
          36,
          36,
          51,
          51,
          51,
          51,
          53,
          56,
          59,
          58,
          60,
          60,
          60,
          59,
          59,
          44,
          45,
          43,
          45,
          33,
          34,
          34,
          34,
          35,
          35,
          35,
          35,
          34,
          36,
          37,
          37,
          37,
          37,
          37,
          36,
          35,
          35,
          34,
          34,
          34,
          32,
          32,
          35,
          48,
          48,
          48,
          67,
          76,
          75,
          75,
          80,
          81,
          81,
          80,
          96,
          98,
          97,
          98,
          131,
          134,
          134,
          134,
          136,
          137,
          137,
          138,
          136,
          242,
          242,
          249,
          230,
          232,
          231,
          230,
          231,
          232,
          224,
          224,
          224,
          218,
          218,
          218,
          218,
          218,
          225,
          217,
          213,
          214,
          212,
          216,
          212,
          207,
          204,
          202,
          205,
          198,
          152,
          150,
          152,
          149,
          150,
          151,
          152,
          150,
          155,
          155,
          149,
          147,
          149,
          147,
          152,
          137,
          150,
          151,
          150,
          149,
          149,
          184,
          181,
          182,
          176,
          174,
          283,
          280,
          279,
          278,
          277,
          288,
          295,
          295,
          295,
          295,
          293,
          294,
          294,
          294,
          292,
          301,
          303,
          297,
          296,
          297,
          293,
          291,
          290,
          289,
          290,
          285,
          548,
          542,
          536,
          541,
          541,
          541,
          534,
          536,
          536,
          272,
          272,
          269,
          181,
          178,
          177,
          177,
          178,
          175,
          177,
          178,
          180,
          180,
          182,
          177,
          177,
          175,
          180,
          181,
          184,
          186,
          187,
          187,
          184,
          184,
          184,
          184,
          186,
          186,
          187,
          187,
          187,
          190,
          190,
          188,
          191,
          191,
          195,
          193,
          196,
          194,
          193,
          192,
          217,
          220,
          222,
          218,
          221,
          223,
          223,
          225,
          227,
          null,
          388,
          402,
          394,
          391,
          396,
          394,
          388,
          378,
          381,
          379,
          380,
          379,
          377,
          375,
          374,
          375,
          365,
          366,
          371,
          374,
          375,
          391,
          390,
          390,
          390,
          388,
          383,
          382,
          382,
          381,
          378,
          373,
          366,
          366,
          367,
          366,
          368,
          359,
          353,
          356,
          null,
          null,
          null,
          null,
          null,
          null,
          null,
          null,
          null,
          null,
          null,
          null,
          null,
          null,
          null,
          null
         ],
         "yaxis": "y"
        }
       ],
       "layout": {
        "height": 600,
        "template": {
         "data": {
          "bar": [
           {
            "error_x": {
             "color": "#2a3f5f"
            },
            "error_y": {
             "color": "#2a3f5f"
            },
            "marker": {
             "line": {
              "color": "#E5ECF6",
              "width": 0.5
             },
             "pattern": {
              "fillmode": "overlay",
              "size": 10,
              "solidity": 0.2
             }
            },
            "type": "bar"
           }
          ],
          "barpolar": [
           {
            "marker": {
             "line": {
              "color": "#E5ECF6",
              "width": 0.5
             },
             "pattern": {
              "fillmode": "overlay",
              "size": 10,
              "solidity": 0.2
             }
            },
            "type": "barpolar"
           }
          ],
          "carpet": [
           {
            "aaxis": {
             "endlinecolor": "#2a3f5f",
             "gridcolor": "white",
             "linecolor": "white",
             "minorgridcolor": "white",
             "startlinecolor": "#2a3f5f"
            },
            "baxis": {
             "endlinecolor": "#2a3f5f",
             "gridcolor": "white",
             "linecolor": "white",
             "minorgridcolor": "white",
             "startlinecolor": "#2a3f5f"
            },
            "type": "carpet"
           }
          ],
          "choropleth": [
           {
            "colorbar": {
             "outlinewidth": 0,
             "ticks": ""
            },
            "type": "choropleth"
           }
          ],
          "contour": [
           {
            "colorbar": {
             "outlinewidth": 0,
             "ticks": ""
            },
            "colorscale": [
             [
              0,
              "#0d0887"
             ],
             [
              0.1111111111111111,
              "#46039f"
             ],
             [
              0.2222222222222222,
              "#7201a8"
             ],
             [
              0.3333333333333333,
              "#9c179e"
             ],
             [
              0.4444444444444444,
              "#bd3786"
             ],
             [
              0.5555555555555556,
              "#d8576b"
             ],
             [
              0.6666666666666666,
              "#ed7953"
             ],
             [
              0.7777777777777778,
              "#fb9f3a"
             ],
             [
              0.8888888888888888,
              "#fdca26"
             ],
             [
              1,
              "#f0f921"
             ]
            ],
            "type": "contour"
           }
          ],
          "contourcarpet": [
           {
            "colorbar": {
             "outlinewidth": 0,
             "ticks": ""
            },
            "type": "contourcarpet"
           }
          ],
          "heatmap": [
           {
            "colorbar": {
             "outlinewidth": 0,
             "ticks": ""
            },
            "colorscale": [
             [
              0,
              "#0d0887"
             ],
             [
              0.1111111111111111,
              "#46039f"
             ],
             [
              0.2222222222222222,
              "#7201a8"
             ],
             [
              0.3333333333333333,
              "#9c179e"
             ],
             [
              0.4444444444444444,
              "#bd3786"
             ],
             [
              0.5555555555555556,
              "#d8576b"
             ],
             [
              0.6666666666666666,
              "#ed7953"
             ],
             [
              0.7777777777777778,
              "#fb9f3a"
             ],
             [
              0.8888888888888888,
              "#fdca26"
             ],
             [
              1,
              "#f0f921"
             ]
            ],
            "type": "heatmap"
           }
          ],
          "heatmapgl": [
           {
            "colorbar": {
             "outlinewidth": 0,
             "ticks": ""
            },
            "colorscale": [
             [
              0,
              "#0d0887"
             ],
             [
              0.1111111111111111,
              "#46039f"
             ],
             [
              0.2222222222222222,
              "#7201a8"
             ],
             [
              0.3333333333333333,
              "#9c179e"
             ],
             [
              0.4444444444444444,
              "#bd3786"
             ],
             [
              0.5555555555555556,
              "#d8576b"
             ],
             [
              0.6666666666666666,
              "#ed7953"
             ],
             [
              0.7777777777777778,
              "#fb9f3a"
             ],
             [
              0.8888888888888888,
              "#fdca26"
             ],
             [
              1,
              "#f0f921"
             ]
            ],
            "type": "heatmapgl"
           }
          ],
          "histogram": [
           {
            "marker": {
             "pattern": {
              "fillmode": "overlay",
              "size": 10,
              "solidity": 0.2
             }
            },
            "type": "histogram"
           }
          ],
          "histogram2d": [
           {
            "colorbar": {
             "outlinewidth": 0,
             "ticks": ""
            },
            "colorscale": [
             [
              0,
              "#0d0887"
             ],
             [
              0.1111111111111111,
              "#46039f"
             ],
             [
              0.2222222222222222,
              "#7201a8"
             ],
             [
              0.3333333333333333,
              "#9c179e"
             ],
             [
              0.4444444444444444,
              "#bd3786"
             ],
             [
              0.5555555555555556,
              "#d8576b"
             ],
             [
              0.6666666666666666,
              "#ed7953"
             ],
             [
              0.7777777777777778,
              "#fb9f3a"
             ],
             [
              0.8888888888888888,
              "#fdca26"
             ],
             [
              1,
              "#f0f921"
             ]
            ],
            "type": "histogram2d"
           }
          ],
          "histogram2dcontour": [
           {
            "colorbar": {
             "outlinewidth": 0,
             "ticks": ""
            },
            "colorscale": [
             [
              0,
              "#0d0887"
             ],
             [
              0.1111111111111111,
              "#46039f"
             ],
             [
              0.2222222222222222,
              "#7201a8"
             ],
             [
              0.3333333333333333,
              "#9c179e"
             ],
             [
              0.4444444444444444,
              "#bd3786"
             ],
             [
              0.5555555555555556,
              "#d8576b"
             ],
             [
              0.6666666666666666,
              "#ed7953"
             ],
             [
              0.7777777777777778,
              "#fb9f3a"
             ],
             [
              0.8888888888888888,
              "#fdca26"
             ],
             [
              1,
              "#f0f921"
             ]
            ],
            "type": "histogram2dcontour"
           }
          ],
          "mesh3d": [
           {
            "colorbar": {
             "outlinewidth": 0,
             "ticks": ""
            },
            "type": "mesh3d"
           }
          ],
          "parcoords": [
           {
            "line": {
             "colorbar": {
              "outlinewidth": 0,
              "ticks": ""
             }
            },
            "type": "parcoords"
           }
          ],
          "pie": [
           {
            "automargin": true,
            "type": "pie"
           }
          ],
          "scatter": [
           {
            "fillpattern": {
             "fillmode": "overlay",
             "size": 10,
             "solidity": 0.2
            },
            "type": "scatter"
           }
          ],
          "scatter3d": [
           {
            "line": {
             "colorbar": {
              "outlinewidth": 0,
              "ticks": ""
             }
            },
            "marker": {
             "colorbar": {
              "outlinewidth": 0,
              "ticks": ""
             }
            },
            "type": "scatter3d"
           }
          ],
          "scattercarpet": [
           {
            "marker": {
             "colorbar": {
              "outlinewidth": 0,
              "ticks": ""
             }
            },
            "type": "scattercarpet"
           }
          ],
          "scattergeo": [
           {
            "marker": {
             "colorbar": {
              "outlinewidth": 0,
              "ticks": ""
             }
            },
            "type": "scattergeo"
           }
          ],
          "scattergl": [
           {
            "marker": {
             "colorbar": {
              "outlinewidth": 0,
              "ticks": ""
             }
            },
            "type": "scattergl"
           }
          ],
          "scattermapbox": [
           {
            "marker": {
             "colorbar": {
              "outlinewidth": 0,
              "ticks": ""
             }
            },
            "type": "scattermapbox"
           }
          ],
          "scatterpolar": [
           {
            "marker": {
             "colorbar": {
              "outlinewidth": 0,
              "ticks": ""
             }
            },
            "type": "scatterpolar"
           }
          ],
          "scatterpolargl": [
           {
            "marker": {
             "colorbar": {
              "outlinewidth": 0,
              "ticks": ""
             }
            },
            "type": "scatterpolargl"
           }
          ],
          "scatterternary": [
           {
            "marker": {
             "colorbar": {
              "outlinewidth": 0,
              "ticks": ""
             }
            },
            "type": "scatterternary"
           }
          ],
          "surface": [
           {
            "colorbar": {
             "outlinewidth": 0,
             "ticks": ""
            },
            "colorscale": [
             [
              0,
              "#0d0887"
             ],
             [
              0.1111111111111111,
              "#46039f"
             ],
             [
              0.2222222222222222,
              "#7201a8"
             ],
             [
              0.3333333333333333,
              "#9c179e"
             ],
             [
              0.4444444444444444,
              "#bd3786"
             ],
             [
              0.5555555555555556,
              "#d8576b"
             ],
             [
              0.6666666666666666,
              "#ed7953"
             ],
             [
              0.7777777777777778,
              "#fb9f3a"
             ],
             [
              0.8888888888888888,
              "#fdca26"
             ],
             [
              1,
              "#f0f921"
             ]
            ],
            "type": "surface"
           }
          ],
          "table": [
           {
            "cells": {
             "fill": {
              "color": "#EBF0F8"
             },
             "line": {
              "color": "white"
             }
            },
            "header": {
             "fill": {
              "color": "#C8D4E3"
             },
             "line": {
              "color": "white"
             }
            },
            "type": "table"
           }
          ]
         },
         "layout": {
          "annotationdefaults": {
           "arrowcolor": "#2a3f5f",
           "arrowhead": 0,
           "arrowwidth": 1
          },
          "autotypenumbers": "strict",
          "coloraxis": {
           "colorbar": {
            "outlinewidth": 0,
            "ticks": ""
           }
          },
          "colorscale": {
           "diverging": [
            [
             0,
             "#8e0152"
            ],
            [
             0.1,
             "#c51b7d"
            ],
            [
             0.2,
             "#de77ae"
            ],
            [
             0.3,
             "#f1b6da"
            ],
            [
             0.4,
             "#fde0ef"
            ],
            [
             0.5,
             "#f7f7f7"
            ],
            [
             0.6,
             "#e6f5d0"
            ],
            [
             0.7,
             "#b8e186"
            ],
            [
             0.8,
             "#7fbc41"
            ],
            [
             0.9,
             "#4d9221"
            ],
            [
             1,
             "#276419"
            ]
           ],
           "sequential": [
            [
             0,
             "#0d0887"
            ],
            [
             0.1111111111111111,
             "#46039f"
            ],
            [
             0.2222222222222222,
             "#7201a8"
            ],
            [
             0.3333333333333333,
             "#9c179e"
            ],
            [
             0.4444444444444444,
             "#bd3786"
            ],
            [
             0.5555555555555556,
             "#d8576b"
            ],
            [
             0.6666666666666666,
             "#ed7953"
            ],
            [
             0.7777777777777778,
             "#fb9f3a"
            ],
            [
             0.8888888888888888,
             "#fdca26"
            ],
            [
             1,
             "#f0f921"
            ]
           ],
           "sequentialminus": [
            [
             0,
             "#0d0887"
            ],
            [
             0.1111111111111111,
             "#46039f"
            ],
            [
             0.2222222222222222,
             "#7201a8"
            ],
            [
             0.3333333333333333,
             "#9c179e"
            ],
            [
             0.4444444444444444,
             "#bd3786"
            ],
            [
             0.5555555555555556,
             "#d8576b"
            ],
            [
             0.6666666666666666,
             "#ed7953"
            ],
            [
             0.7777777777777778,
             "#fb9f3a"
            ],
            [
             0.8888888888888888,
             "#fdca26"
            ],
            [
             1,
             "#f0f921"
            ]
           ]
          },
          "colorway": [
           "#636efa",
           "#EF553B",
           "#00cc96",
           "#ab63fa",
           "#FFA15A",
           "#19d3f3",
           "#FF6692",
           "#B6E880",
           "#FF97FF",
           "#FECB52"
          ],
          "font": {
           "color": "#2a3f5f"
          },
          "geo": {
           "bgcolor": "white",
           "lakecolor": "white",
           "landcolor": "#E5ECF6",
           "showlakes": true,
           "showland": true,
           "subunitcolor": "white"
          },
          "hoverlabel": {
           "align": "left"
          },
          "hovermode": "closest",
          "mapbox": {
           "style": "light"
          },
          "paper_bgcolor": "white",
          "plot_bgcolor": "#E5ECF6",
          "polar": {
           "angularaxis": {
            "gridcolor": "white",
            "linecolor": "white",
            "ticks": ""
           },
           "bgcolor": "#E5ECF6",
           "radialaxis": {
            "gridcolor": "white",
            "linecolor": "white",
            "ticks": ""
           }
          },
          "scene": {
           "xaxis": {
            "backgroundcolor": "#E5ECF6",
            "gridcolor": "white",
            "gridwidth": 2,
            "linecolor": "white",
            "showbackground": true,
            "ticks": "",
            "zerolinecolor": "white"
           },
           "yaxis": {
            "backgroundcolor": "#E5ECF6",
            "gridcolor": "white",
            "gridwidth": 2,
            "linecolor": "white",
            "showbackground": true,
            "ticks": "",
            "zerolinecolor": "white"
           },
           "zaxis": {
            "backgroundcolor": "#E5ECF6",
            "gridcolor": "white",
            "gridwidth": 2,
            "linecolor": "white",
            "showbackground": true,
            "ticks": "",
            "zerolinecolor": "white"
           }
          },
          "shapedefaults": {
           "line": {
            "color": "#2a3f5f"
           }
          },
          "ternary": {
           "aaxis": {
            "gridcolor": "white",
            "linecolor": "white",
            "ticks": ""
           },
           "baxis": {
            "gridcolor": "white",
            "linecolor": "white",
            "ticks": ""
           },
           "bgcolor": "#E5ECF6",
           "caxis": {
            "gridcolor": "white",
            "linecolor": "white",
            "ticks": ""
           }
          },
          "title": {
           "x": 0.05
          },
          "xaxis": {
           "automargin": true,
           "gridcolor": "white",
           "linecolor": "white",
           "ticks": "",
           "title": {
            "standoff": 15
           },
           "zerolinecolor": "white",
           "zerolinewidth": 2
          },
          "yaxis": {
           "automargin": true,
           "gridcolor": "white",
           "linecolor": "white",
           "ticks": "",
           "title": {
            "standoff": 15
           },
           "zerolinecolor": "white",
           "zerolinewidth": 2
          }
         }
        },
        "title": {
         "text": "KSS MFG BWF Ranking & Points History"
        },
        "xaxis": {
         "anchor": "y",
         "domain": [
          0,
          0.94
         ],
         "title": {
          "text": "Year"
         }
        },
        "yaxis": {
         "anchor": "x",
         "domain": [
          0,
          1
         ],
         "range": [
          100,
          -5
         ],
         "tickvals": [
          1,
          10,
          20,
          30,
          40,
          50,
          60,
          70,
          80,
          90
         ],
         "title": {
          "text": "Rank"
         }
        },
        "yaxis2": {
         "anchor": "x",
         "overlaying": "y",
         "side": "right",
         "tickvals": [
          1,
          10,
          20,
          30,
          40,
          50,
          60,
          70,
          80,
          90
         ]
        }
       }
      }
     },
     "metadata": {},
     "output_type": "display_data"
    }
   ],
   "source": [
    "import plotly.graph_objects as go\n",
    "from plotly.subplots import make_subplots\n",
    "\n",
    "# Create figure with secondary y-axis\n",
    "fig = make_subplots(specs=[[{\"secondary_y\": True}]])\n",
    "\n",
    "# Add traces\n",
    "fig.add_trace(go.Scatter(\n",
    "    x=history['week'] , \n",
    "    y=history['rank'], \n",
    "    mode='lines', \n",
    "    line_color='blue',\n",
    "    name=\"points\"),\n",
    "    secondary_y=False,\n",
    ")\n",
    "\n",
    "fig.update_yaxes(\n",
    "    title_text=\"Rank\",\n",
    "    range=[100,-5], \n",
    "    secondary_y=False\n",
    ")\n",
    "\n",
    "# fig.add_trace(go.Scatter(\n",
    "#     x=history['week'] , \n",
    "#     y=history['tournaments'], \n",
    "#     mode='lines', \n",
    "#     line_color='green',\n",
    "#     name=\"tournaments\"),\n",
    "#     secondary_y=True,\n",
    "# )\n",
    "\n",
    "# fig.update_yaxes(\n",
    "#     title_text=\"Tournaments\", \n",
    "#     secondary_y=True\n",
    "#     # autorange=\"reversed\"\n",
    "# )\n",
    "\n",
    "# Add figure title\n",
    "fig.update_layout(\n",
    "    title_text=\"KSS MFG BWF Ranking & Points History\",\n",
    "    height = 600\n",
    ")\n",
    "\n",
    "# Set x-axis title\n",
    "fig.update_xaxes(title_text=\"Year\")\n",
    "\n",
    "# set y-axis ticks\n",
    "fig.update_yaxes(tickvals = [1] + list(range(10,100,10)))\n",
    "\n",
    "\n",
    "fig.show()"
   ]
  },
  {
   "attachments": {},
   "cell_type": "markdown",
   "metadata": {},
   "source": [
    "Data source: https://bwf.tournamentsoftware.com/ranking/ranking.aspx?rid=70\n",
    "\n",
    "Performance trend only shows drastic drop in 2023. Due to the ranking freeze applied by BWF from march 2020 to feb 2021 due to covid, KSS/MFG actually retained a lot of points that they earned before covid, so this does not reflect their true results.\n",
    "\n",
    "Need to get total points earned from each tournament to compare the max no. of points possible vs actual received. This should be a better reflection of their actual performance trend. "
   ]
  },
  {
   "cell_type": "code",
   "execution_count": 6,
   "metadata": {},
   "outputs": [
    {
     "data": {
      "application/vnd.plotly.v1+json": {
       "config": {
        "plotlyServerURL": "https://plot.ly"
       },
       "data": [
        {
         "line": {
          "color": "blue"
         },
         "mode": "lines+markers+text",
         "name": "points percentage per tournament",
         "text": [
          1,
          1,
          2,
          2,
          5,
          15,
          15,
          11,
          12,
          15,
          3,
          8,
          7,
          9,
          null
         ],
         "textposition": "top center",
         "texttemplate": "%{y}% <br>(%{text})",
         "type": "scatter",
         "x": [
          2010,
          2011,
          2012,
          2013,
          2014,
          2015,
          2016,
          2017,
          2018,
          2019,
          2020,
          2021,
          2022,
          2023,
          2024
         ],
         "xaxis": "x",
         "y": [
          0,
          0,
          12.5,
          32.5,
          49,
          52,
          57.33,
          87.73,
          84.17,
          79,
          80,
          66.88,
          47.14,
          40.56,
          null
         ],
         "yaxis": "y"
        }
       ],
       "layout": {
        "height": 600,
        "template": {
         "data": {
          "bar": [
           {
            "error_x": {
             "color": "#2a3f5f"
            },
            "error_y": {
             "color": "#2a3f5f"
            },
            "marker": {
             "line": {
              "color": "#E5ECF6",
              "width": 0.5
             },
             "pattern": {
              "fillmode": "overlay",
              "size": 10,
              "solidity": 0.2
             }
            },
            "type": "bar"
           }
          ],
          "barpolar": [
           {
            "marker": {
             "line": {
              "color": "#E5ECF6",
              "width": 0.5
             },
             "pattern": {
              "fillmode": "overlay",
              "size": 10,
              "solidity": 0.2
             }
            },
            "type": "barpolar"
           }
          ],
          "carpet": [
           {
            "aaxis": {
             "endlinecolor": "#2a3f5f",
             "gridcolor": "white",
             "linecolor": "white",
             "minorgridcolor": "white",
             "startlinecolor": "#2a3f5f"
            },
            "baxis": {
             "endlinecolor": "#2a3f5f",
             "gridcolor": "white",
             "linecolor": "white",
             "minorgridcolor": "white",
             "startlinecolor": "#2a3f5f"
            },
            "type": "carpet"
           }
          ],
          "choropleth": [
           {
            "colorbar": {
             "outlinewidth": 0,
             "ticks": ""
            },
            "type": "choropleth"
           }
          ],
          "contour": [
           {
            "colorbar": {
             "outlinewidth": 0,
             "ticks": ""
            },
            "colorscale": [
             [
              0,
              "#0d0887"
             ],
             [
              0.1111111111111111,
              "#46039f"
             ],
             [
              0.2222222222222222,
              "#7201a8"
             ],
             [
              0.3333333333333333,
              "#9c179e"
             ],
             [
              0.4444444444444444,
              "#bd3786"
             ],
             [
              0.5555555555555556,
              "#d8576b"
             ],
             [
              0.6666666666666666,
              "#ed7953"
             ],
             [
              0.7777777777777778,
              "#fb9f3a"
             ],
             [
              0.8888888888888888,
              "#fdca26"
             ],
             [
              1,
              "#f0f921"
             ]
            ],
            "type": "contour"
           }
          ],
          "contourcarpet": [
           {
            "colorbar": {
             "outlinewidth": 0,
             "ticks": ""
            },
            "type": "contourcarpet"
           }
          ],
          "heatmap": [
           {
            "colorbar": {
             "outlinewidth": 0,
             "ticks": ""
            },
            "colorscale": [
             [
              0,
              "#0d0887"
             ],
             [
              0.1111111111111111,
              "#46039f"
             ],
             [
              0.2222222222222222,
              "#7201a8"
             ],
             [
              0.3333333333333333,
              "#9c179e"
             ],
             [
              0.4444444444444444,
              "#bd3786"
             ],
             [
              0.5555555555555556,
              "#d8576b"
             ],
             [
              0.6666666666666666,
              "#ed7953"
             ],
             [
              0.7777777777777778,
              "#fb9f3a"
             ],
             [
              0.8888888888888888,
              "#fdca26"
             ],
             [
              1,
              "#f0f921"
             ]
            ],
            "type": "heatmap"
           }
          ],
          "heatmapgl": [
           {
            "colorbar": {
             "outlinewidth": 0,
             "ticks": ""
            },
            "colorscale": [
             [
              0,
              "#0d0887"
             ],
             [
              0.1111111111111111,
              "#46039f"
             ],
             [
              0.2222222222222222,
              "#7201a8"
             ],
             [
              0.3333333333333333,
              "#9c179e"
             ],
             [
              0.4444444444444444,
              "#bd3786"
             ],
             [
              0.5555555555555556,
              "#d8576b"
             ],
             [
              0.6666666666666666,
              "#ed7953"
             ],
             [
              0.7777777777777778,
              "#fb9f3a"
             ],
             [
              0.8888888888888888,
              "#fdca26"
             ],
             [
              1,
              "#f0f921"
             ]
            ],
            "type": "heatmapgl"
           }
          ],
          "histogram": [
           {
            "marker": {
             "pattern": {
              "fillmode": "overlay",
              "size": 10,
              "solidity": 0.2
             }
            },
            "type": "histogram"
           }
          ],
          "histogram2d": [
           {
            "colorbar": {
             "outlinewidth": 0,
             "ticks": ""
            },
            "colorscale": [
             [
              0,
              "#0d0887"
             ],
             [
              0.1111111111111111,
              "#46039f"
             ],
             [
              0.2222222222222222,
              "#7201a8"
             ],
             [
              0.3333333333333333,
              "#9c179e"
             ],
             [
              0.4444444444444444,
              "#bd3786"
             ],
             [
              0.5555555555555556,
              "#d8576b"
             ],
             [
              0.6666666666666666,
              "#ed7953"
             ],
             [
              0.7777777777777778,
              "#fb9f3a"
             ],
             [
              0.8888888888888888,
              "#fdca26"
             ],
             [
              1,
              "#f0f921"
             ]
            ],
            "type": "histogram2d"
           }
          ],
          "histogram2dcontour": [
           {
            "colorbar": {
             "outlinewidth": 0,
             "ticks": ""
            },
            "colorscale": [
             [
              0,
              "#0d0887"
             ],
             [
              0.1111111111111111,
              "#46039f"
             ],
             [
              0.2222222222222222,
              "#7201a8"
             ],
             [
              0.3333333333333333,
              "#9c179e"
             ],
             [
              0.4444444444444444,
              "#bd3786"
             ],
             [
              0.5555555555555556,
              "#d8576b"
             ],
             [
              0.6666666666666666,
              "#ed7953"
             ],
             [
              0.7777777777777778,
              "#fb9f3a"
             ],
             [
              0.8888888888888888,
              "#fdca26"
             ],
             [
              1,
              "#f0f921"
             ]
            ],
            "type": "histogram2dcontour"
           }
          ],
          "mesh3d": [
           {
            "colorbar": {
             "outlinewidth": 0,
             "ticks": ""
            },
            "type": "mesh3d"
           }
          ],
          "parcoords": [
           {
            "line": {
             "colorbar": {
              "outlinewidth": 0,
              "ticks": ""
             }
            },
            "type": "parcoords"
           }
          ],
          "pie": [
           {
            "automargin": true,
            "type": "pie"
           }
          ],
          "scatter": [
           {
            "fillpattern": {
             "fillmode": "overlay",
             "size": 10,
             "solidity": 0.2
            },
            "type": "scatter"
           }
          ],
          "scatter3d": [
           {
            "line": {
             "colorbar": {
              "outlinewidth": 0,
              "ticks": ""
             }
            },
            "marker": {
             "colorbar": {
              "outlinewidth": 0,
              "ticks": ""
             }
            },
            "type": "scatter3d"
           }
          ],
          "scattercarpet": [
           {
            "marker": {
             "colorbar": {
              "outlinewidth": 0,
              "ticks": ""
             }
            },
            "type": "scattercarpet"
           }
          ],
          "scattergeo": [
           {
            "marker": {
             "colorbar": {
              "outlinewidth": 0,
              "ticks": ""
             }
            },
            "type": "scattergeo"
           }
          ],
          "scattergl": [
           {
            "marker": {
             "colorbar": {
              "outlinewidth": 0,
              "ticks": ""
             }
            },
            "type": "scattergl"
           }
          ],
          "scattermapbox": [
           {
            "marker": {
             "colorbar": {
              "outlinewidth": 0,
              "ticks": ""
             }
            },
            "type": "scattermapbox"
           }
          ],
          "scatterpolar": [
           {
            "marker": {
             "colorbar": {
              "outlinewidth": 0,
              "ticks": ""
             }
            },
            "type": "scatterpolar"
           }
          ],
          "scatterpolargl": [
           {
            "marker": {
             "colorbar": {
              "outlinewidth": 0,
              "ticks": ""
             }
            },
            "type": "scatterpolargl"
           }
          ],
          "scatterternary": [
           {
            "marker": {
             "colorbar": {
              "outlinewidth": 0,
              "ticks": ""
             }
            },
            "type": "scatterternary"
           }
          ],
          "surface": [
           {
            "colorbar": {
             "outlinewidth": 0,
             "ticks": ""
            },
            "colorscale": [
             [
              0,
              "#0d0887"
             ],
             [
              0.1111111111111111,
              "#46039f"
             ],
             [
              0.2222222222222222,
              "#7201a8"
             ],
             [
              0.3333333333333333,
              "#9c179e"
             ],
             [
              0.4444444444444444,
              "#bd3786"
             ],
             [
              0.5555555555555556,
              "#d8576b"
             ],
             [
              0.6666666666666666,
              "#ed7953"
             ],
             [
              0.7777777777777778,
              "#fb9f3a"
             ],
             [
              0.8888888888888888,
              "#fdca26"
             ],
             [
              1,
              "#f0f921"
             ]
            ],
            "type": "surface"
           }
          ],
          "table": [
           {
            "cells": {
             "fill": {
              "color": "#EBF0F8"
             },
             "line": {
              "color": "white"
             }
            },
            "header": {
             "fill": {
              "color": "#C8D4E3"
             },
             "line": {
              "color": "white"
             }
            },
            "type": "table"
           }
          ]
         },
         "layout": {
          "annotationdefaults": {
           "arrowcolor": "#2a3f5f",
           "arrowhead": 0,
           "arrowwidth": 1
          },
          "autotypenumbers": "strict",
          "coloraxis": {
           "colorbar": {
            "outlinewidth": 0,
            "ticks": ""
           }
          },
          "colorscale": {
           "diverging": [
            [
             0,
             "#8e0152"
            ],
            [
             0.1,
             "#c51b7d"
            ],
            [
             0.2,
             "#de77ae"
            ],
            [
             0.3,
             "#f1b6da"
            ],
            [
             0.4,
             "#fde0ef"
            ],
            [
             0.5,
             "#f7f7f7"
            ],
            [
             0.6,
             "#e6f5d0"
            ],
            [
             0.7,
             "#b8e186"
            ],
            [
             0.8,
             "#7fbc41"
            ],
            [
             0.9,
             "#4d9221"
            ],
            [
             1,
             "#276419"
            ]
           ],
           "sequential": [
            [
             0,
             "#0d0887"
            ],
            [
             0.1111111111111111,
             "#46039f"
            ],
            [
             0.2222222222222222,
             "#7201a8"
            ],
            [
             0.3333333333333333,
             "#9c179e"
            ],
            [
             0.4444444444444444,
             "#bd3786"
            ],
            [
             0.5555555555555556,
             "#d8576b"
            ],
            [
             0.6666666666666666,
             "#ed7953"
            ],
            [
             0.7777777777777778,
             "#fb9f3a"
            ],
            [
             0.8888888888888888,
             "#fdca26"
            ],
            [
             1,
             "#f0f921"
            ]
           ],
           "sequentialminus": [
            [
             0,
             "#0d0887"
            ],
            [
             0.1111111111111111,
             "#46039f"
            ],
            [
             0.2222222222222222,
             "#7201a8"
            ],
            [
             0.3333333333333333,
             "#9c179e"
            ],
            [
             0.4444444444444444,
             "#bd3786"
            ],
            [
             0.5555555555555556,
             "#d8576b"
            ],
            [
             0.6666666666666666,
             "#ed7953"
            ],
            [
             0.7777777777777778,
             "#fb9f3a"
            ],
            [
             0.8888888888888888,
             "#fdca26"
            ],
            [
             1,
             "#f0f921"
            ]
           ]
          },
          "colorway": [
           "#636efa",
           "#EF553B",
           "#00cc96",
           "#ab63fa",
           "#FFA15A",
           "#19d3f3",
           "#FF6692",
           "#B6E880",
           "#FF97FF",
           "#FECB52"
          ],
          "font": {
           "color": "#2a3f5f"
          },
          "geo": {
           "bgcolor": "white",
           "lakecolor": "white",
           "landcolor": "#E5ECF6",
           "showlakes": true,
           "showland": true,
           "subunitcolor": "white"
          },
          "hoverlabel": {
           "align": "left"
          },
          "hovermode": "closest",
          "mapbox": {
           "style": "light"
          },
          "paper_bgcolor": "white",
          "plot_bgcolor": "#E5ECF6",
          "polar": {
           "angularaxis": {
            "gridcolor": "white",
            "linecolor": "white",
            "ticks": ""
           },
           "bgcolor": "#E5ECF6",
           "radialaxis": {
            "gridcolor": "white",
            "linecolor": "white",
            "ticks": ""
           }
          },
          "scene": {
           "xaxis": {
            "backgroundcolor": "#E5ECF6",
            "gridcolor": "white",
            "gridwidth": 2,
            "linecolor": "white",
            "showbackground": true,
            "ticks": "",
            "zerolinecolor": "white"
           },
           "yaxis": {
            "backgroundcolor": "#E5ECF6",
            "gridcolor": "white",
            "gridwidth": 2,
            "linecolor": "white",
            "showbackground": true,
            "ticks": "",
            "zerolinecolor": "white"
           },
           "zaxis": {
            "backgroundcolor": "#E5ECF6",
            "gridcolor": "white",
            "gridwidth": 2,
            "linecolor": "white",
            "showbackground": true,
            "ticks": "",
            "zerolinecolor": "white"
           }
          },
          "shapedefaults": {
           "line": {
            "color": "#2a3f5f"
           }
          },
          "ternary": {
           "aaxis": {
            "gridcolor": "white",
            "linecolor": "white",
            "ticks": ""
           },
           "baxis": {
            "gridcolor": "white",
            "linecolor": "white",
            "ticks": ""
           },
           "bgcolor": "#E5ECF6",
           "caxis": {
            "gridcolor": "white",
            "linecolor": "white",
            "ticks": ""
           }
          },
          "title": {
           "x": 0.05
          },
          "xaxis": {
           "automargin": true,
           "gridcolor": "white",
           "linecolor": "white",
           "ticks": "",
           "title": {
            "standoff": 15
           },
           "zerolinecolor": "white",
           "zerolinewidth": 2
          },
          "yaxis": {
           "automargin": true,
           "gridcolor": "white",
           "linecolor": "white",
           "ticks": "",
           "title": {
            "standoff": 15
           },
           "zerolinecolor": "white",
           "zerolinewidth": 2
          }
         }
        },
        "title": {
         "text": "KSS/MFG Average Points Earned per Tournament in BWF Super Series/World Tour (Percentage)"
        },
        "xaxis": {
         "anchor": "y",
         "domain": [
          0,
          0.94
         ],
         "tickvals": [
          2010,
          2011,
          2012,
          2013,
          2014,
          2015,
          2016,
          2017,
          2018,
          2019,
          2020,
          2021,
          2022,
          2023,
          2024
         ],
         "title": {
          "text": "Year"
         }
        },
        "yaxis": {
         "anchor": "x",
         "domain": [
          0,
          1
         ],
         "range": [
          -5,
          97.73
         ],
         "tickvals": [
          0,
          10,
          20,
          30,
          40,
          50,
          60,
          70,
          80,
          90
         ],
         "title": {
          "text": "Avg Percentage <br> (No. of Tournaments)"
         }
        },
        "yaxis2": {
         "anchor": "x",
         "overlaying": "y",
         "range": [
          -5,
          97.73
         ],
         "side": "right",
         "tickvals": [
          0,
          10,
          20,
          30,
          40,
          50,
          60,
          70,
          80,
          90
         ]
        }
       }
      }
     },
     "metadata": {},
     "output_type": "display_data"
    }
   ],
   "source": [
    "# plot yearly performance trend\n",
    "import plotly.graph_objects as go\n",
    "from plotly.subplots import make_subplots\n",
    "\n",
    "# Create figure with secondary y-axis\n",
    "fig = make_subplots(specs=[[{\"secondary_y\": True}]])\n",
    "\n",
    "# Main y-axis\n",
    "fig.add_trace(go.Scatter(\n",
    "        x=performance_trend['year'], \n",
    "        y=round(performance_trend['avg_points_percentage_per_tournament']*100,2), \n",
    "        mode='lines+markers+text',\n",
    "        line_color='blue', \n",
    "        text=performance_trend['no_of_tournaments'],\n",
    "        texttemplate = \"%{y}% <br>(%{text})\",\n",
    "        textposition=\"top center\",\n",
    "        name=\"points percentage per tournament\"\n",
    "    ),\n",
    "    secondary_y=False,\n",
    ")\n",
    "\n",
    "fig.update_yaxes(\n",
    "    title_text=\"Avg Percentage <br> (No. of Tournaments)\", \n",
    "    secondary_y=False\n",
    "    # autorange=\"reversed\"\n",
    ")\n",
    "\n",
    "# Add figure title\n",
    "fig.update_layout(\n",
    "    title_text=\"KSS/MFG Average Points Earned per Tournament in BWF Super Series/World Tour (Percentage)\",\n",
    "    height=600\n",
    ")\n",
    "\n",
    "# Set x-axis title\n",
    "fig.update_xaxes(\n",
    "    title_text=\"Year\",\n",
    "    tickvals = performance_trend['year']\n",
    ")\n",
    "\n",
    "# set y-axis range\n",
    "fig.update_yaxes(\n",
    "    range=[round(performance_trend['avg_points_percentage_per_tournament']*100,2).min() - 5, round(performance_trend['avg_points_percentage_per_tournament']*100,2).max() + 10],\n",
    "    tickvals = list(range(0,100,10))\n",
    ")\n",
    "\n",
    "fig.show()"
   ]
  },
  {
   "attachments": {},
   "cell_type": "markdown",
   "metadata": {},
   "source": [
    "Data source: https://en.wikipedia.org/wiki/Kevin_Sanjaya_Sukamuljo\n",
    "\n",
    "Graph shows percentage of points that the minions actually earned from the maximum possible amount of points that can be earned. This only takes into account tournaments where KSS/MFG played at least one match.\n",
    "\n",
    "Note that although each tournament has different amount of points up for grabs depending on its level (super 1000, 750, 500, and so on), the points ratio generally remains the same. E.g. winning the tournament gets you 100% of the max amount of points, 2nd place gets you 85% of the max amount of points\n",
    "\n",
    "KSS/MFG peaked in 2017 and stayed relatively consistent up to 2019, but showed a downward trend from 2020 onwards. 2020 was an anomaly, as they only played in 3 tournaments due to MFG's injury and the limited amount of tournaments available due to covid restrictions.\n",
    "\n"
   ]
  },
  {
   "cell_type": "code",
   "execution_count": null,
   "metadata": {},
   "outputs": [],
   "source": [
    "# plot titles, finals, top fours\n",
    "import plotly.graph_objects as go\n",
    "animals=['giraffes', 'orangutans', 'monkeys']\n",
    "\n",
    "fig = go.Figure(data=[\n",
    "    go.Bar(\n",
    "        name='No. of Tournaments', \n",
    "        x=performance_trend['year'], \n",
    "        y=performance_trend['no_of_tournaments'],\n",
    "        texttemplate='%{y}'\n",
    "    ),\n",
    "    go.Bar(\n",
    "        name='> Semi-finals', \n",
    "        x=performance_trend['year'], \n",
    "        y=performance_trend['top_four'],\n",
    "        texttemplate='%{y}'\n",
    "    ),\n",
    "    go.Bar(\n",
    "        name='> Finals', \n",
    "        x=performance_trend['year'], \n",
    "        y=performance_trend['finals'],\n",
    "        texttemplate='%{y}'\n",
    "    ),\n",
    "    go.Bar(\n",
    "        name='Wins', \n",
    "        x=performance_trend['year'], \n",
    "        y=performance_trend['titles'],\n",
    "        texttemplate='%{y}'\n",
    "    )\n",
    "])\n",
    "# Change the bar mode\n",
    "fig.update_layout(barmode='group')\n",
    "\n",
    "# Add figure title\n",
    "fig.update_layout(\n",
    "    title_text=\"KSS MFG Top Four or Better Finishes\",\n",
    "    height=500\n",
    ")\n",
    "\n",
    "fig.update_xaxes(\n",
    "    title_text=\"Year\",\n",
    "    tickvals = performance_trend['year']\n",
    ")\n",
    "\n",
    "fig.update_yaxes(title_text=\"Total\")\n",
    "\n",
    "\n",
    "fig.show()"
   ]
  },
  {
   "attachments": {},
   "cell_type": "markdown",
   "metadata": {},
   "source": [
    "Data source: https://en.wikipedia.org/wiki/Kevin_Sanjaya_Sukamuljo\n",
    "\n",
    "This graph reinforces the fact that KSS/MFG's performance started to drop in 2020. before that, they were consistently performing at a high level for 3 years (2017-2019), reaching at least the semi-finals on 10 occasions each year.\n"
   ]
  },
  {
   "attachments": {},
   "cell_type": "markdown",
   "metadata": {},
   "source": [
    "## Match Insights"
   ]
  },
  {
   "attachments": {},
   "cell_type": "markdown",
   "metadata": {},
   "source": [
    "- who is winning the initiative from service situation? --> server & receiver, serve position (odd/even point), who won initiative, serve type (low T, low body, low wide, flick T, flick wide), return type (drop, drive, clear), return destination (front left, mid right, back middle)\n",
    "- does winning initiative lead to winning point? --> compare with rallys won percentage to show importance of initiative\n",
    "- most effective point winning shots? --> timestamp, type of stroke (smash, drop, drive, net, ...), where it was played from & played to (front left, mid right, back middle), who played it & received it\n",
    "- opponent weaknesses? shots leading to weak reply --> same as above, weak reply are shots with a high chance of losing point (e.g. weak lifts) \n",
    "- opponent weaknesses? forced errors --> who made error, shot type faced (smash, drop, etc.), shot placement (high forehand, low backhand), shot origin & destination (front left, back right, ...), erroneous shot type, erroneous shot origin & destination\n",
    "- ~~no of short rallies~~ \n",
    "- ~~momentum change --> plot points vs rally no~~\n",
    "- no of winners vs errors & unforced errors by person\n",
    "- shots from above net vs shots from below net\n",
    "- ~~how involved in the match $\\rightarrow$ percentage shots played vs total shots played. any players isolated?~~\n",
    "- how effective is back player from the back court $\\rightarrow$ shots leading to weak replies/interceptions, winners vs errors from the back\n",
    "- how effective is front player at the net $\\rightarrow$ net duels won/lost, winners/errors at the net, percentage shots played at the net vs elsewhere (shots heatmap)"
   ]
  },
  {
   "attachments": {},
   "cell_type": "markdown",
   "metadata": {},
   "source": [
    "### KSS/MFG vs YW/HE BAC 2019 Final - Match Analysis \n",
    "\n",
    "### - Why did KSS/MFG lose so badly? \n",
    "### - What did YW/HE do right? \n",
    "### - How can KSS/MFG win against YW/HE?"
   ]
  },
  {
   "attachments": {},
   "cell_type": "markdown",
   "metadata": {},
   "source": [
    "#### Gather Data"
   ]
  },
  {
   "cell_type": "code",
   "execution_count": null,
   "metadata": {},
   "outputs": [],
   "source": [
    "# process shots data\n",
    "import pandas as pd\n",
    "\n",
    "shots_game_1_half_1 = pd.read_csv('BAC 2019 - KSS MFG v YW HE - Game 1 1st Half.csv', sep=',')\n",
    "shots_game_1_half_2 = pd.read_csv('BAC 2019 - KSS MFG v YW HE - Game 1 2nd Half.csv', sep=',')\n",
    "\n",
    "shots_game_1 = pd.concat([shots_game_1_half_1, shots_game_1_half_2]).reset_index(drop=True)"
   ]
  },
  {
   "cell_type": "code",
   "execution_count": null,
   "metadata": {},
   "outputs": [],
   "source": [
    "# separate player & stroke type\n",
    "player_name = []\n",
    "stroke = []\n",
    "\n",
    "for player in shots_game_1['Player']:\n",
    "    split = player.split(' ')\n",
    "    \n",
    "    player_name.append(split[0])\n",
    "    stroke.append(split[1])\n",
    "    \n",
    "shots_game_1['Player'] = player_name\n",
    "shots_game_1['Stroke'] = stroke"
   ]
  },
  {
   "cell_type": "code",
   "execution_count": null,
   "metadata": {},
   "outputs": [],
   "source": [
    "# add score, rally number, rallies dataframe\n",
    "\n",
    "# index of serves in shots dataframe\n",
    "serves = shots_game_1.loc[shots_game_1['Event'].str.contains('Serve')]\n",
    "serves_index = list(serves.index)\n",
    "\n",
    "# last shots from each rally\n",
    "last_shots_index = list(serves.index-1)[1:]\n",
    "last_shots_index.append(shots_game_1.index[-1])\n",
    "last_shots = shots_game_1.loc[last_shots_index]\n",
    "\n",
    "# declare rally dataframe\n",
    "teams = shots_game_1['Team'].unique()\n",
    "column_names = teams + '_score'\n",
    "rallies_game_1 = pd.DataFrame()\n",
    "\n",
    "#declare arrays to insert to dataframe\n",
    "rally_no_array = [0]\n",
    "rally_length_array = [0]\n",
    "rally_winner_array = ['-']\n",
    "score_team_0_array = [0]\n",
    "score_team_1_array = [0]\n",
    "\n",
    "# initialize variables\n",
    "rally_no = 1\n",
    "score_team_0 = 0\n",
    "score_team_1 = 0\n",
    "\n",
    "for index, row in last_shots.iterrows():\n",
    "    \n",
    "    # add score columns to shots dataframe\n",
    "    shots_game_1.loc[serves_index[rally_no-1]:last_shots_index[rally_no-1], column_names[0]] = score_team_0\n",
    "    shots_game_1.loc[serves_index[rally_no-1]:last_shots_index[rally_no-1], column_names[1]] = score_team_1\n",
    "    shots_game_1.loc[serves_index[rally_no-1]:last_shots_index[rally_no-1], 'rally_no'] = rally_no\n",
    "    \n",
    "    # determine point winner\n",
    "    if row['X2'] == '-': # error\n",
    "        if row['Team'] == teams[0]: # point for other team\n",
    "            score_team_1 += 1\n",
    "            rally_winner = teams[1]\n",
    "        else:\n",
    "            score_team_0 += 1\n",
    "            rally_winner = teams[0]\n",
    "            \n",
    "    else: # winner\n",
    "        if row['Team'] == teams[0]:\n",
    "            score_team_0 += 1\n",
    "            rally_winner = teams[0]\n",
    "        else:\n",
    "            score_team_1 += 1\n",
    "            rally_winner = teams[1]\n",
    "    \n",
    "    # record score\n",
    "    rally_no_array.append(rally_no)\n",
    "    rally_length_array.append(last_shots_index[rally_no-1] - serves_index[rally_no-1] + 1)\n",
    "    rally_winner_array.append(rally_winner)\n",
    "    score_team_0_array.append(score_team_0)\n",
    "    score_team_1_array.append(score_team_1)\n",
    "    \n",
    "    rally_no += 1\n",
    "\n",
    "rallies_game_1['rally_no'] = rally_no_array\n",
    "rallies_game_1['rally_length'] = rally_length_array\n",
    "rallies_game_1['rally_winner'] = rally_winner_array\n",
    "rallies_game_1[column_names[0]] = score_team_0_array\n",
    "rallies_game_1[column_names[1]] = score_team_1_array\n",
    "rallies_game_1['score_delta'] = rallies_game_1[column_names[0]] - rallies_game_1[column_names[1]]"
   ]
  },
  {
   "cell_type": "code",
   "execution_count": null,
   "metadata": {},
   "outputs": [],
   "source": [
    "%store shots_game_1\n",
    "%store rallies_game_1"
   ]
  },
  {
   "cell_type": "code",
   "execution_count": 2,
   "metadata": {},
   "outputs": [],
   "source": [
    "%store -r shots_game_1\n",
    "%store -r rallies_game_1"
   ]
  },
  {
   "cell_type": "code",
   "execution_count": 3,
   "metadata": {},
   "outputs": [],
   "source": [
    "# separate data by player\n",
    "teams = shots_game_1['Team'].unique()\n",
    "\n",
    "players_team_0 = shots_game_1['Player'].loc[shots_game_1['Team'] == teams[0]].unique()\n",
    "players_team_1 = shots_game_1['Player'].loc[shots_game_1['Team'] == teams[1]].unique()\n",
    "\n",
    "shots_team_0_player_0 = shots_game_1.loc[(~shots_game_1['Event'].str.contains('Serve')) & (shots_game_1['Player'] == players_team_0[0])]\n",
    "shots_team_0_player_1 = shots_game_1.loc[(~shots_game_1['Event'].str.contains('Serve')) & (shots_game_1['Player'] == players_team_0[1])]\n",
    "shots_team_1_player_0 = shots_game_1.loc[(~shots_game_1['Event'].str.contains('Serve')) & (shots_game_1['Player'] == players_team_1[0])]\n",
    "shots_team_1_player_1 = shots_game_1.loc[(~shots_game_1['Event'].str.contains('Serve')) & (shots_game_1['Player'] == players_team_1[1])]"
   ]
  },
  {
   "attachments": {},
   "cell_type": "markdown",
   "metadata": {},
   "source": [
    "#### How did the momentum shift during the game?"
   ]
  },
  {
   "cell_type": "code",
   "execution_count": null,
   "metadata": {},
   "outputs": [],
   "source": [
    "# plot scores\n",
    "import plotly.graph_objects as go\n",
    "from plotly.subplots import make_subplots\n",
    "\n",
    "# Create figure with secondary y-axis\n",
    "fig = make_subplots(specs=[[{\"secondary_y\": True}]])\n",
    "\n",
    "# Team 0\n",
    "fig.add_trace(go.Scatter(\n",
    "        x=rallies_game_1['rally_no'], \n",
    "        y=rallies_game_1[teams[0] + '_score'], \n",
    "        mode='lines+markers',\n",
    "        line_color='blue', \n",
    "        # text=performance_trend['no_of_tournaments'],\n",
    "        # texttemplate = \"%{y}% <br>(%{text})\",\n",
    "        # textposition=\"top center\",\n",
    "        name= teams[0]\n",
    "    ),\n",
    "    secondary_y=False,\n",
    ")\n",
    "\n",
    "# Team 1\n",
    "fig.add_trace(go.Scatter(\n",
    "        x=rallies_game_1['rally_no'], \n",
    "        y=rallies_game_1[teams[1] + '_score'], \n",
    "        mode='lines+markers',\n",
    "        line_color='red', \n",
    "        # text=performance_trend['no_of_tournaments'],\n",
    "        # texttemplate = \"%{y}% <br>(%{text})\",\n",
    "        # textposition=\"top center\",\n",
    "        name= teams[1]\n",
    "    ),\n",
    "    secondary_y=False,\n",
    ")\n",
    "\n",
    "fig.update_yaxes(\n",
    "    title_text=\"Score\", \n",
    "    secondary_y=False\n",
    "    # autorange=\"reversed\"\n",
    ")\n",
    "\n",
    "fig.add_hline(y=11, line_dash=\"dash\",\n",
    "              annotation_text=\"Interval\", \n",
    "              annotation_position=\"bottom right\")\n",
    "\n",
    "# Add figure title\n",
    "fig.update_layout(\n",
    "    title_text=\"Points Tally - Game 1\",\n",
    "    height=600\n",
    ")\n",
    "\n",
    "# Set x-axis title\n",
    "fig.update_xaxes(\n",
    "    title_text=\"Rally No.\",\n",
    "    tickvals = rallies_game_1['rally_no']\n",
    ")\n",
    "\n",
    "# set y-axis range\n",
    "fig.update_yaxes(\n",
    "    # range=[round(performance_trend['avg_points_percentage_per_tournament']*100,2).min() - 5, round(performance_trend['avg_points_percentage_per_tournament']*100,2).max() + 10],\n",
    "    tickvals = list(range(0,rallies_game_1[[teams[0] + '_score', teams[1] + '_score']].max().max() + 1,1))\n",
    ")\n",
    "\n",
    "fig.show()"
   ]
  },
  {
   "attachments": {},
   "cell_type": "markdown",
   "metadata": {},
   "source": [
    "YW/HE got the better start, but KSS/MFG caught up and led by 1 point at the interval. The 2nd half was also tight, but YW/HE crucially won 3 consecutive points from 18 all. **Find out what caused INA to lose the last 3 points!**"
   ]
  },
  {
   "attachments": {},
   "cell_type": "markdown",
   "metadata": {},
   "source": [
    "#### Who was the player most involved in the game on each team?"
   ]
  },
  {
   "cell_type": "code",
   "execution_count": null,
   "metadata": {},
   "outputs": [],
   "source": [
    "# player involvement\n",
    "import plotly.graph_objects as go\n",
    "from plotly.subplots import make_subplots\n",
    "\n",
    "involvement_team_0 = [\n",
    "    len(shots_team_0_player_0), \n",
    "    len(shots_team_0_player_1)\n",
    "]\n",
    "involvement_team_1 = [\n",
    "    len(shots_team_1_player_0), \n",
    "    len(shots_team_1_player_1)\n",
    "]\n",
    "\n",
    "# plots\n",
    "fig = make_subplots(\n",
    "    rows=1, \n",
    "    cols=2,\n",
    "    # row_heights=[0.5, 0.25, 0.25],\n",
    "    subplot_titles=(teams[0], \n",
    "                    teams[1]\n",
    "                    ),\n",
    "    specs=[\n",
    "        [{\"type\": \"pie\"}, {\"type\": \"pie\"}]\n",
    "    ]\n",
    "    )\n",
    "\n",
    "# player involvement team 0\n",
    "fig.add_trace(\n",
    "    go.Pie(\n",
    "        labels=players_team_0, \n",
    "        values=involvement_team_0,\n",
    "        textinfo='label+percent+value',\n",
    "        # marker=dict(colors=['orangered', 'cornflowerblue'])\n",
    "    ),\n",
    "    row=1, \n",
    "    col=1\n",
    ")\n",
    "\n",
    "# player involvement team 1\n",
    "fig.add_trace(\n",
    "    go.Pie(\n",
    "        labels=players_team_1, \n",
    "        values=involvement_team_1,\n",
    "        textinfo='label+percent+value',\n",
    "        # marker=dict(colors=['orangered', 'cornflowerblue'])\n",
    "    ),\n",
    "    row=1, \n",
    "    col=2\n",
    ")\n",
    "\n",
    "# Add figure title\n",
    "fig.update_layout(\n",
    "    title_text=\"Player Involvement - Game 1\",\n",
    "    height=500\n",
    ")\n",
    "\n",
    "fig.show()"
   ]
  },
  {
   "attachments": {},
   "cell_type": "markdown",
   "metadata": {},
   "source": [
    "Player involvement of both players from both teams were pretty much equal, with KSS slightly more involved than MFG."
   ]
  },
  {
   "attachments": {},
   "cell_type": "markdown",
   "metadata": {},
   "source": [
    "#### What are each player's go to shot type?"
   ]
  },
  {
   "cell_type": "code",
   "execution_count": null,
   "metadata": {},
   "outputs": [],
   "source": [
    "# most played shot type by each player\n",
    "import plotly.graph_objects as go\n",
    "from plotly.subplots import make_subplots\n",
    "\n",
    "# data\n",
    "shots_frequency_team_0_player_0 = shots_team_0_player_0['Event'].value_counts()\n",
    "shots_frequency_team_0_player_1 = shots_team_0_player_1['Event'].value_counts()\n",
    "shots_frequency_team_1_player_0 = shots_team_1_player_0['Event'].value_counts()\n",
    "shots_frequency_team_1_player_1 = shots_team_1_player_1['Event'].value_counts()\n",
    "\n",
    "# helper functions\n",
    "def color(indexes):\n",
    "    colors = []\n",
    "    \n",
    "    for index in list(indexes):\n",
    "        if index == 'Slow Lift':\n",
    "            colors.append('darkblue')\n",
    "        elif index == 'Fast Lift':\n",
    "            colors.append('blue')\n",
    "        elif index == 'Drive Up':\n",
    "            colors.append('green')\n",
    "        elif index == 'Drive Flat':\n",
    "            colors.append('yellowgreen')\n",
    "        elif index == 'Drive Down':\n",
    "            colors.append('greenyellow')\n",
    "        elif index == 'Slow Drop':\n",
    "            colors.append('orange')\n",
    "        elif index == 'Fast Drop':\n",
    "            colors.append('darkorange')\n",
    "        elif index == 'Half Smash':\n",
    "            colors.append('orangered')\n",
    "        else:\n",
    "            colors.append('red')\n",
    "            \n",
    "    return colors\n",
    "\n",
    "# plots\n",
    "fig = make_subplots(\n",
    "    rows=2, \n",
    "    cols=2,\n",
    "    # row_heights=[0.5, 0.25, 0.25],\n",
    "    subplot_titles=( \n",
    "                    players_team_0[0], \n",
    "                    players_team_0[1], \n",
    "                    players_team_1[0], \n",
    "                    players_team_1[1]\n",
    "                    ),\n",
    "    specs=[\n",
    "        [{\"type\": \"pie\"}, {\"type\": \"pie\"}],\n",
    "        [{\"type\": \"pie\"},{\"type\": \"pie\"}]\n",
    "    ]\n",
    ")\n",
    "\n",
    "# shot frequency team 0 player 0\n",
    "fig.add_trace(\n",
    "    go.Pie(\n",
    "        labels=shots_frequency_team_0_player_0.index, \n",
    "        values=shots_frequency_team_0_player_0,\n",
    "        textinfo='percent',\n",
    "        marker=dict(colors=color(shots_frequency_team_0_player_0.index))\n",
    "    ),\n",
    "    row=1, \n",
    "    col=1\n",
    ")\n",
    "\n",
    "# shot frequency team 0 player 1\n",
    "fig.add_trace(\n",
    "    go.Pie(\n",
    "        labels=shots_frequency_team_0_player_1.index, \n",
    "        values=shots_frequency_team_0_player_1,\n",
    "        textinfo='percent',\n",
    "        marker=dict(colors=color(shots_frequency_team_0_player_1.index))\n",
    "    ),\n",
    "    row=1, \n",
    "    col=2\n",
    ")\n",
    "\n",
    "# shot frequency team 1 player 0\n",
    "fig.add_trace(\n",
    "    go.Pie(\n",
    "        labels=shots_frequency_team_1_player_0.index, \n",
    "        values=shots_frequency_team_1_player_0,\n",
    "        textinfo='percent',\n",
    "        marker=dict(colors=color(shots_frequency_team_1_player_0.index))\n",
    "    ),\n",
    "    row=2, \n",
    "    col=1\n",
    ")\n",
    "\n",
    "# shot frequency team 1 player 1\n",
    "fig.add_trace(\n",
    "    go.Pie(\n",
    "        labels=shots_frequency_team_1_player_1.index, \n",
    "        values=shots_frequency_team_1_player_1,\n",
    "        textinfo='percent',\n",
    "        marker=dict(colors=color(shots_frequency_team_1_player_1.index))\n",
    "    ),\n",
    "    row=2, \n",
    "    col=2\n",
    ")\n",
    "\n",
    "# Add figure title\n",
    "fig.update_layout(\n",
    "    title_text=\"Shot Variation of Each Player - Game 1\",\n",
    "    height=800\n",
    ")\n",
    "\n",
    "fig.show()"
   ]
  },
  {
   "attachments": {},
   "cell_type": "markdown",
   "metadata": {},
   "source": [
    "JPN's shot variation is more defensive oriented, predominantly playing lifts and upwards or flat drives. \n",
    "\n",
    "YW is especially defensive oriented, with his 1/3 of his shots consisting of lifts. He plays a lot of **fast lifts**, most likely to move the opponent back court player and force a weaker attacking shot **to create counter opportunities**. **Look for fast lifts from YW that causes a turnover!**\n",
    "\n",
    "HE also plays a lot of lifts (mostly slow), but he also plays a lot of **upwards drives**. Upwards drives can be quite risky to play, as the shuttle will most likely be above the net when the opponent receives it. This shot can easily be countered if the opponent is alert and can be a **potential weakness**. **Look for upwards drives from HE that causes JPN to lose points or at least be put under pressure!**\n",
    "\n",
    "Meanwhile, INA's shot variation is more attacking oriented. \n",
    "\n",
    "MFG mixes up his attack with smashes and drop shots, but mostly plays smashes. Meanwhile, KSS predominantly plays drops instead of smashes. INA team mostly plays with a classic formation with KSS as the front court player and MFG playing at the back. This could be why KSS prefers to save his energy when at the back court, prioritizing placement shots instead of smashes. Instead, **MFG is the one who plays from the back and tries to force weak replies to create killing opportunities for KSS**. **Find out which shots from MFG are most effective in creating winners/weak replies!** \n",
    "\n",
    "Interesting to note that MFG plays a lot of slow lifts. These lifts are most likely played in defensive situations. Meanwhile, KSS rarely plays lifts. This could indicate that **INA team mainly relies on KSS to turn defensive situations into offense**, as slow lifts are less likely to result in a turn-around. **Compare turnovers from KSS & MFG** "
   ]
  },
  {
   "attachments": {},
   "cell_type": "markdown",
   "metadata": {},
   "source": [
    "#### How many short & long rallies were there? Which team one more short rallies? Which team won more long rallies?"
   ]
  },
  {
   "cell_type": "code",
   "execution_count": null,
   "metadata": {},
   "outputs": [],
   "source": [
    "# short & long rallies\n",
    "import plotly.graph_objects as go\n",
    "from plotly.subplots import make_subplots\n",
    "\n",
    "threshold_short = 5\n",
    "threshold_medium = 10\n",
    "threshold_long = 15\n",
    "\n",
    "# plots\n",
    "fig = make_subplots(\n",
    "    rows=3, \n",
    "    cols=2,\n",
    "    # row_heights=[0.5, 0.25, 0.25],\n",
    "    subplot_titles=( \n",
    "                    \"Rally Lengths\", \n",
    "                    \"\",\n",
    "                    \"Short Rallies Won\", \n",
    "                    \"Medium Rallies Won\",\n",
    "                    \"Long Rallies Won\",\n",
    "                    \"Very Long Rallies Won\"\n",
    "                    ),\n",
    "    specs=[\n",
    "        [{\"type\": \"pie\", \"colspan\": 2}, {}],\n",
    "        [{\"type\": \"pie\"},{\"type\": \"pie\"}],\n",
    "        [{\"type\": \"pie\"},{\"type\": \"pie\"}]\n",
    "    ]\n",
    ")\n",
    "\n",
    "# amount of short & long rallies\n",
    "fig.add_trace(\n",
    "    go.Pie(\n",
    "        labels=[\n",
    "            '<=' + str(threshold_short) +  ' Shots (Short)', \n",
    "            str(threshold_short + 1) + '-' + str(threshold_medium) + ' Shots (Medium)',\n",
    "            str(threshold_medium + 1) + '-' + str(threshold_long) + ' Shots (Long)',\n",
    "            '>' + str(threshold_long) +  ' Shots (Very Long)' \n",
    "        ], \n",
    "        values=[\n",
    "            len(rallies_game_1[1:].loc[rallies_game_1['rally_length'] <= threshold_short]), \n",
    "            len(rallies_game_1[1:].loc[[threshold_short < x <= threshold_medium for x in rallies_game_1[1:]['rally_length']]]),\n",
    "            len(rallies_game_1[1:].loc[[threshold_medium < x <= threshold_long for x in rallies_game_1[1:]['rally_length']]]),\n",
    "            len(rallies_game_1[1:].loc[rallies_game_1['rally_length'] > threshold_long])\n",
    "        ],\n",
    "        sort=True,\n",
    "        textinfo='percent+value+label'\n",
    "    ),\n",
    "    row=1, \n",
    "    col=1\n",
    ")\n",
    "\n",
    "# short rallies won\n",
    "fig.add_trace(\n",
    "    go.Pie(\n",
    "        labels=teams, \n",
    "        values=[\n",
    "            len(rallies_game_1.loc[(rallies_game_1['rally_length'] <= threshold_short) & (rallies_game_1['rally_winner'] == teams[0])]),\n",
    "            len(rallies_game_1.loc[(rallies_game_1['rally_length'] <= threshold_short) & (rallies_game_1['rally_winner'] == teams[1])])\n",
    "        ],\n",
    "        textinfo='percent+value+label'\n",
    "    ),\n",
    "    row=2, \n",
    "    col=1\n",
    ")\n",
    "\n",
    "# medium rallies won\n",
    "fig.add_trace(\n",
    "    go.Pie(\n",
    "        labels=teams, \n",
    "        values=[\n",
    "            len(rallies_game_1.loc[([threshold_short < x <= threshold_medium for x in rallies_game_1['rally_length']]) & (rallies_game_1['rally_winner'] == teams[0])]),\n",
    "            len(rallies_game_1.loc[([threshold_short < x <= threshold_medium for x in rallies_game_1['rally_length']]) & (rallies_game_1['rally_winner'] == teams[1])])\n",
    "        ],\n",
    "        textinfo='percent+value+label'\n",
    "    ),\n",
    "    row=2, \n",
    "    col=2\n",
    ")\n",
    "\n",
    "# long rallies won\n",
    "fig.add_trace(\n",
    "    go.Pie(\n",
    "        labels=teams, \n",
    "        values=[\n",
    "            len(rallies_game_1.loc[([threshold_medium < x <= threshold_long for x in rallies_game_1['rally_length']]) & (rallies_game_1['rally_winner'] == teams[0])]),\n",
    "            len(rallies_game_1.loc[([threshold_medium < x <= threshold_long for x in rallies_game_1['rally_length']]) & (rallies_game_1['rally_winner'] == teams[1])])\n",
    "        ],\n",
    "        textinfo='percent+value+label'\n",
    "    ),\n",
    "    row=3, \n",
    "    col=1\n",
    ")\n",
    "\n",
    "# very long rallies won\n",
    "fig.add_trace(\n",
    "    go.Pie(\n",
    "        labels=teams, \n",
    "        values=[\n",
    "            len(rallies_game_1.loc[(rallies_game_1['rally_length'] > threshold_long) & (rallies_game_1['rally_winner'] == teams[0])]),\n",
    "            len(rallies_game_1.loc[(rallies_game_1['rally_length'] > threshold_long) & (rallies_game_1['rally_winner'] == teams[1])])\n",
    "        ],\n",
    "        textinfo='percent+value+label'\n",
    "    ),\n",
    "    row=3, \n",
    "    col=2\n",
    ")\n",
    "\n",
    "# Add figure title\n",
    "fig.update_layout(\n",
    "    title_text=\"Short vs. Long Rallies - Game 1\",\n",
    "    height=1000\n",
    ")\n",
    "\n",
    "fig.show()"
   ]
  },
  {
   "attachments": {},
   "cell_type": "markdown",
   "metadata": {},
   "source": [
    "KSS/MFG have the advantage in short and medium rallies. They managed to win almost 2/3 of all the short and medium rallies in the game. They are known to be strong in service situations, so they tend to win a lot of points in service situations (within the first 5 shots). If not, they would usually at least win the attacking advantage in the service situation, putting their opponent under pressure in the first 5 shots, and then win the point in the following couple of shots (within 6-10 shots in total).  \n",
    "\n",
    "However, YW/HE frequently managed to survive the service situation and prolong the rally to more than 10 shots. And in these occasions, YW/HE dominated KSS/MFG. YW/HE managed to win more than 3/4 of the very long rallies.\n",
    "\n",
    "KSS/MFG need to try and **win the point in 5 shots**. **Look for short & medium rallies that INA won. Find out whether winning the attacking advantage in the service situation leads to them winning the point. If so, find out how to win the service situation against YW/HE.** \n",
    "\n",
    "There will be cases where YW/HE survives the service situation. KSS/MFG need to have a solid game plan to win long rallies. **Look for long rallies where INA won. Find out how to win long rallies against YW/HE** \n",
    "\n",
    "**Compare with long rallies where KSS/MFG lost. What is different? One player isolated?**"
   ]
  },
  {
   "attachments": {},
   "cell_type": "markdown",
   "metadata": {},
   "source": [
    "#### Where does each player usually play from? Are there certain types of shots that are played in certain positions?  "
   ]
  },
  {
   "cell_type": "code",
   "execution_count": 4,
   "metadata": {},
   "outputs": [],
   "source": [
    "# function to map coordinates from fc python to actual court coordinates\n",
    "\n",
    "# court proportions on fc python do not follow standards: \n",
    "# e.g. ratio of the width of tram lines to the whole with of the court may differ. this can result in false plotting on the actual court. \n",
    "\n",
    "# map according to sections:\n",
    "# for y coordinates: tram line left, middle of court, tram line right\n",
    "# for x coordinates: rear service area 1 & 2, net area, mid court area 1 & 2\n",
    "\n",
    "# fc python rugby court coordinates:\n",
    "# pos, x, y\n",
    "# top left outer tram, 19, 8\n",
    "# top left inner tram, 19, 22\n",
    "# bottom left inner tram, 19, 79\n",
    "# bottom left outer tram, 19, 93\n",
    "# top left outer back service line, 25, 8\n",
    "# top left inner back service line, 25, 22\n",
    "# bottom left inner back service line, 25, 79\n",
    "# bottom left outer back service line, 25, 93\n",
    "# top left outer front service line, 43, 8\n",
    "# top right outer front service line, 57, 8\n",
    "# top right outer back service line, 75, 8\n",
    "# top right outer tram, 81, 8\n",
    "\n",
    "def map_values(value, value_min, value_max, output_min, output_max):\n",
    "    return ( ( (value - value_min) / (value_max - value_min) ) * (output_max - output_min) )  + output_min\n",
    "\n",
    "def map_values_x(x): \n",
    "    if x == '-':\n",
    "        x = 0\n",
    "    else:\n",
    "        x = int(x)\n",
    "       \n",
    "    # from left to right\n",
    "    if 19 <= x < 25: # back court 1 \n",
    "        return map_values(x, 19, 25, 0, 760)\n",
    "    elif 25 <= x < 43: # mid court 1\n",
    "        return map_values(x, 25, 43, 760, 6710-1980)\n",
    "    elif 43 <= x < 57: # net area\n",
    "        return map_values(x, 43, 57, 6710-1980, 6710+1980)\n",
    "    elif 57 <= x < 75: # mid court 2\n",
    "        return map_values(x, 57, 75, 6710+1980, 13410-760)\n",
    "    elif 75 <= x <= 81: # back court 2\n",
    "        return map_values(x, 75, 81, 13410-760, 13410)\n",
    "    else:\n",
    "        return None\n",
    "    \n",
    "def map_values_y(y):   \n",
    "    if y == '-':\n",
    "        y = 0\n",
    "    else:\n",
    "        y = int(y)\n",
    "     \n",
    "    # from left to right\n",
    "    if 8 <= y < 22: # back court 1 \n",
    "        return map_values(y, 8, 22, 0, 450)\n",
    "    elif 22 <= y < 79: # mid court 1\n",
    "        return map_values(y, 22, 79, 450, 6100-450)\n",
    "    elif 79 <= y <= 93: # net area\n",
    "        return map_values(y, 79, 93, 6100-450, 6100)\n",
    "    else:\n",
    "        return None"
   ]
  },
  {
   "cell_type": "code",
   "execution_count": 5,
   "metadata": {},
   "outputs": [],
   "source": [
    "# function to draw badminton court\n",
    "# adapted from: https://github.com/lukarh/assist-tracking-app/blob/master/dashboard-app.py\n",
    "\n",
    "import plotly.graph_objects as go\n",
    "import numpy as np\n",
    "\n",
    "def draw_plotly_court(fig, fig_width=500, fig_height=870, margins=50, lwidth=3,\n",
    "                      show_title=True, labelticks=True, show_axis=True,\n",
    "                      glayer='below', bg_color='white'):\n",
    "\n",
    "    fig.update_layout(height=870,\n",
    "                      template='plotly_dark')\n",
    "\n",
    "    # Set axes ranges\n",
    "    court_x0 = 0\n",
    "    court_x1 = 13410\n",
    "    court_y0 = 6100 \n",
    "    court_y1 = 0\n",
    "    fig.update_xaxes(\n",
    "        range=[court_x0 - margins, court_x1 + margins],\n",
    "        visible=show_title\n",
    "    )\n",
    "    fig.update_yaxes(\n",
    "        range=[court_y0 + margins, court_y1 -  margins],\n",
    "        visible=show_title\n",
    "    )\n",
    "\n",
    "    main_line_col = \"#777777\"\n",
    "    \n",
    "    fig.update_layout(\n",
    "        # Line Horizontal\n",
    "        # margin=dict(l=20, r=20, t=20, b=20),\n",
    "        paper_bgcolor=bg_color,\n",
    "        plot_bgcolor=bg_color,\n",
    "        yaxis=dict(\n",
    "            scaleanchor=\"x\",\n",
    "            scaleratio=1,\n",
    "            showgrid=False,\n",
    "            zeroline=False,\n",
    "            showline=False,\n",
    "            ticks='',\n",
    "            # fixedrange=True,\n",
    "            visible=show_axis,\n",
    "            showticklabels=labelticks,\n",
    "        ),\n",
    "        xaxis=dict(\n",
    "            showgrid=False,\n",
    "            zeroline=False,\n",
    "            showline=False,\n",
    "            ticks='',\n",
    "            # fixedrange=True,\n",
    "            visible=show_axis,\n",
    "            showticklabels=labelticks,\n",
    "        ),\n",
    "        yaxis2=dict(\n",
    "            scaleanchor=\"x2\",\n",
    "            showgrid=False,\n",
    "            zeroline=False,\n",
    "            showline=False,\n",
    "            ticks='',\n",
    "            # fixedrange=True,\n",
    "            visible=show_axis,\n",
    "            showticklabels=labelticks,\n",
    "            range=[court_y0 + margins, court_y1 -  margins]\n",
    "        ),\n",
    "        xaxis2=dict(\n",
    "            showgrid=False,\n",
    "            zeroline=False,\n",
    "            showline=False,\n",
    "            ticks='',\n",
    "            # fixedrange=True,\n",
    "            visible=show_axis,\n",
    "            showticklabels=labelticks,\n",
    "            range=[court_y0 + margins, court_y1 -  margins]\n",
    "        ),\n",
    "        shapes=[\n",
    "            # court border\n",
    "            dict(\n",
    "                type=\"rect\", x0=court_x0, y0=court_y0, x1=court_x1, y1=court_y1,\n",
    "                line=dict(color=main_line_col, width=lwidth),\n",
    "                layer=glayer\n",
    "            ),\n",
    "            # tram lines\n",
    "            dict(\n",
    "                type=\"line\", x0=0, y0=450, x1=13410, y1=450,\n",
    "                line=dict(color=main_line_col, width=lwidth),\n",
    "                layer=glayer\n",
    "            ),\n",
    "            dict(\n",
    "                type=\"line\", x0=0, y0=6100-450, x1=13410, y1=6100-450,\n",
    "                line=dict(color=main_line_col, width=lwidth),\n",
    "                layer=glayer\n",
    "            ),\n",
    "            # front service line\n",
    "            dict(\n",
    "                type=\"line\", x0=6710-1980, y0=0, x1=6710-1980, y1=6100,\n",
    "                line=dict(color=main_line_col, width=lwidth),\n",
    "                layer=glayer\n",
    "            ),\n",
    "            dict(\n",
    "                type=\"line\", x0=6710+1980, y0=0, x1=6710+1980, y1=6100,\n",
    "                line=dict(color=main_line_col, width=lwidth),\n",
    "                layer=glayer\n",
    "            ),\n",
    "            # rear service line\n",
    "            dict(\n",
    "                type=\"line\", x0=760, y0=0, x1=760, y1=6100,\n",
    "                line=dict(color=main_line_col, width=lwidth),\n",
    "                layer=glayer\n",
    "            ),\n",
    "            dict(\n",
    "                type=\"line\", x0=13410-760, y0=0, x1=13410-760, y1=6100,\n",
    "                line=dict(color=main_line_col, width=lwidth),\n",
    "                layer=glayer\n",
    "            ),\n",
    "            # middle line\n",
    "            dict(\n",
    "                type=\"line\", x0=0, y0=3050, x1=6710-1980, y1=3050,\n",
    "                line=dict(color=main_line_col, width=lwidth),\n",
    "                layer=glayer\n",
    "            ),\n",
    "            dict(\n",
    "                type=\"line\", x0=6710+1980, y0=3050, x1=13410, y1=3050,\n",
    "                line=dict(color=main_line_col, width=lwidth),\n",
    "                layer=glayer\n",
    "            ),\n",
    "            # net\n",
    "            dict(\n",
    "                type=\"line\", x0=6710, y0=0, x1=6710, y1=6100,\n",
    "                line=dict(color=main_line_col, width=lwidth, dash=\"dash\"),\n",
    "                layer=glayer\n",
    "            )\n",
    "        ]\n",
    "    )\n",
    "    return True"
   ]
  },
  {
   "cell_type": "code",
   "execution_count": 6,
   "metadata": {},
   "outputs": [],
   "source": [
    "# function to map colors to shot type\n",
    "def assign_color_by_shot_type(indexes):\n",
    "    colors = []\n",
    "    \n",
    "    for index in list(indexes):\n",
    "        if index == 'Slow Lift':\n",
    "            colors.append('darkblue')\n",
    "        elif index == 'Fast Lift':\n",
    "            colors.append('blue')\n",
    "        elif index == 'Drive Up':\n",
    "            colors.append('green')\n",
    "        elif index == 'Drive Flat':\n",
    "            colors.append('yellowgreen')\n",
    "        elif index == 'Drive Down':\n",
    "            colors.append('greenyellow')\n",
    "        elif index == 'Slow Drop':\n",
    "            colors.append('orange')\n",
    "        elif index == 'Fast Drop':\n",
    "            colors.append('darkorange')\n",
    "        elif index == 'Half Smash':\n",
    "            colors.append('orangered')\n",
    "        else:\n",
    "            colors.append('red')\n",
    "            \n",
    "    return colors"
   ]
  },
  {
   "cell_type": "code",
   "execution_count": 11,
   "metadata": {},
   "outputs": [
    {
     "data": {
      "application/vnd.plotly.v1+json": {
       "config": {
        "plotlyServerURL": "https://plot.ly"
       },
       "data": [
        {
         "marker": {
          "color": "yellowgreen",
          "size": 10,
          "symbol": [
           "circle",
           "arrow-right",
           "arrow-right",
           "circle",
           "arrow-right",
           "arrow-right",
           "circle",
           "arrow-right",
           "arrow-right",
           "circle",
           "arrow-right",
           "arrow-right",
           "circle",
           "arrow-right",
           "arrow-right",
           "circle",
           "arrow-right",
           "arrow-right",
           "circle",
           "arrow-right",
           "arrow-right"
          ]
         },
         "mode": "markers+lines",
         "name": "Drive Flat",
         "type": "scatter",
         "x": [
          4730,
          9130,
          null,
          4509.444444444444,
          10010,
          null,
          2965.5555555555557,
          null,
          null,
          4509.444444444444,
          8910,
          null,
          4068.3333333333335,
          11330,
          null,
          2083.333333333333,
          null,
          null,
          4509.444444444444,
          10670,
          null
         ],
         "y": [
          3734.210526315789,
          3095.6140350877195,
          null,
          3369.298245614035,
          814.9122807017543,
          null,
          4464.035087719298,
          null,
          null,
          2274.561403508772,
          3551.754385964912,
          null,
          3460.5263157894738,
          1909.6491228070174,
          null,
          1362.280701754386,
          null,
          null,
          3916.6666666666665,
          4555.263157894737,
          null
         ]
        },
        {
         "marker": {
          "color": "orange",
          "size": 10,
          "symbol": [
           "circle",
           "arrow-right",
           "arrow-right",
           "circle",
           "arrow-right",
           "arrow-right",
           "circle",
           "arrow-right",
           "arrow-right",
           "circle",
           "arrow-right",
           "arrow-right",
           "circle",
           "arrow-right",
           "arrow-right",
           "circle",
           "arrow-right",
           "arrow-right",
           "circle",
           "arrow-right",
           "arrow-right",
           "circle",
           "arrow-right",
           "arrow-right",
           "circle",
           "arrow-right",
           "arrow-right",
           "circle",
           "arrow-right",
           "arrow-right",
           "circle",
           "arrow-right",
           "arrow-right",
           "circle",
           "arrow-right",
           "arrow-right",
           "circle",
           "arrow-right",
           "arrow-right",
           "circle",
           "arrow-right",
           "arrow-right",
           "circle",
           "arrow-right",
           "arrow-right",
           "circle",
           "arrow-right",
           "arrow-right",
           "circle",
           "arrow-right",
           "arrow-right"
          ]
         },
         "mode": "markers+lines",
         "name": "Slow Drop",
         "type": "scatter",
         "x": [
          1862.7777777777778,
          8407.142857142857,
          null,
          4509.444444444444,
          8407.142857142857,
          null,
          4730,
          7558.571428571428,
          null,
          4509.444444444444,
          8407.142857142857,
          null,
          3406.6666666666665,
          null,
          null,
          380,
          8690,
          null,
          506.66666666666663,
          8407.142857142857,
          null,
          506.66666666666663,
          8407.142857142857,
          null,
          2965.5555555555557,
          8690,
          null,
          760,
          8124.285714285714,
          null,
          5295.714285714285,
          7275.714285714286,
          null,
          380,
          8407.142857142857,
          null,
          380,
          8690,
          null,
          980.5555555555555,
          8407.142857142857,
          null,
          4730,
          7558.571428571428,
          null,
          5012.857142857143,
          8690,
          null,
          4730,
          8690,
          null
         ],
         "y": [
          541.2280701754386,
          723.6842105263158,
          null,
          541.2280701754386,
          723.6842105263158,
          null,
          5193.859649122806,
          4737.7192982456145,
          null,
          5558.771929824561,
          3095.6140350877195,
          null,
          4099.122807017544,
          null,
          null,
          2000.877192982456,
          1271.0526315789473,
          null,
          4646.491228070176,
          4372.80701754386,
          null,
          3551.754385964912,
          2000.877192982456,
          null,
          997.3684210526316,
          417.8571428571429,
          null,
          4555.263157894737,
          4372.80701754386,
          null,
          2821.929824561403,
          1271.0526315789473,
          null,
          1088.5964912280701,
          1088.5964912280701,
          null,
          5102.631578947368,
          4737.7192982456145,
          null,
          5102.631578947368,
          4281.578947368421,
          null,
          3095.6140350877195,
          2639.4736842105262,
          null,
          4464.035087719298,
          2639.4736842105262,
          null,
          3916.6666666666665,
          3825.438596491228,
          null
         ]
        },
        {
         "marker": {
          "color": "red",
          "size": 10,
          "symbol": [
           "circle",
           "arrow-right",
           "arrow-right",
           "circle",
           "arrow-right",
           "arrow-right",
           "circle",
           "arrow-right",
           "arrow-right",
           "circle",
           "arrow-right",
           "arrow-right",
           "circle",
           "arrow-right",
           "arrow-right",
           "circle",
           "arrow-right",
           "arrow-right",
           "circle",
           "arrow-right",
           "arrow-right",
           "circle",
           "arrow-right",
           "arrow-right",
           "circle",
           "arrow-right",
           "arrow-right",
           "circle",
           "arrow-right",
           "arrow-right",
           "circle",
           "arrow-right",
           "arrow-right",
           "circle",
           "arrow-right",
           "arrow-right",
           "circle",
           "arrow-right",
           "arrow-right",
           "circle",
           "arrow-right",
           "arrow-right",
           "circle",
           "arrow-right",
           "arrow-right",
           "circle",
           "arrow-right",
           "arrow-right",
           "circle",
           "arrow-right",
           "arrow-right",
           "circle",
           "arrow-right",
           "arrow-right",
           "circle",
           "arrow-right",
           "arrow-right",
           "circle",
           "arrow-right",
           "arrow-right",
           "circle",
           "arrow-right",
           "arrow-right",
           "circle",
           "arrow-right",
           "arrow-right",
           "circle",
           "arrow-right",
           "arrow-right",
           "circle",
           "arrow-right",
           "arrow-right",
           "circle",
           "arrow-right",
           "arrow-right",
           "circle",
           "arrow-right",
           "arrow-right",
           "circle",
           "arrow-right",
           "arrow-right",
           "circle",
           "arrow-right",
           "arrow-right",
           "circle",
           "arrow-right",
           "arrow-right",
           "circle",
           "arrow-right",
           "arrow-right",
           "circle",
           "arrow-right",
           "arrow-right",
           "circle",
           "arrow-right",
           "arrow-right",
           "circle",
           "arrow-right",
           "arrow-right",
           "circle",
           "arrow-right",
           "arrow-right"
          ]
         },
         "mode": "markers+lines",
         "name": "Smash",
         "type": "scatter",
         "x": [
          980.5555555555555,
          11770,
          null,
          2303.8888888888887,
          11330,
          null,
          1862.7777777777778,
          11770,
          null,
          980.5555555555555,
          11330,
          null,
          380,
          11770,
          null,
          380,
          10890,
          null,
          980.5555555555555,
          11110,
          null,
          506.66666666666663,
          11110,
          null,
          253.33333333333331,
          11330,
          null,
          506.66666666666663,
          11550,
          null,
          2745,
          11110,
          null,
          1642.2222222222222,
          11550,
          null,
          506.66666666666663,
          11110,
          null,
          1421.6666666666665,
          null,
          null,
          506.66666666666663,
          11330,
          null,
          633.3333333333334,
          11550,
          null,
          506.66666666666663,
          11330,
          null,
          380,
          11550,
          null,
          633.3333333333334,
          11770,
          null,
          506.66666666666663,
          11550,
          null,
          506.66666666666663,
          11550,
          null,
          2303.8888888888887,
          11550,
          null,
          1862.7777777777778,
          null,
          null,
          2083.333333333333,
          11550,
          null,
          506.66666666666663,
          11550,
          null,
          633.3333333333334,
          11550,
          null,
          760,
          11550,
          null,
          506.66666666666663,
          11550,
          null,
          380,
          10890,
          null,
          1201.111111111111,
          11990,
          null,
          633.3333333333334,
          11550,
          null,
          506.66666666666663,
          11550,
          null,
          1201.111111111111,
          11330,
          null,
          633.3333333333334,
          11990,
          null
         ],
         "y": [
          5467.543859649123,
          4464.035087719298,
          null,
          5376.315789473684,
          1818.421052631579,
          null,
          4920.175438596491,
          5650,
          null,
          5467.543859649123,
          3369.298245614035,
          null,
          5011.403508771929,
          4737.7192982456145,
          null,
          4920.175438596491,
          3825.438596491228,
          null,
          5011.403508771929,
          5193.859649122806,
          null,
          4920.175438596491,
          3642.982456140351,
          null,
          1909.6491228070174,
          541.2280701754386,
          null,
          4828.9473684210525,
          4737.7192982456145,
          null,
          1544.7368421052631,
          1818.421052631579,
          null,
          5285.087719298245,
          5376.315789473684,
          null,
          1727.1929824561403,
          814.9122807017543,
          null,
          5102.631578947368,
          null,
          null,
          1088.5964912280701,
          2092.1052631578946,
          null,
          5011.403508771929,
          4920.175438596491,
          null,
          1635.9649122807016,
          1635.9649122807016,
          null,
          1362.280701754386,
          1635.9649122807016,
          null,
          5193.859649122806,
          5376.315789473684,
          null,
          1453.5087719298244,
          2183.333333333333,
          null,
          1727.1929824561403,
          1362.280701754386,
          null,
          5102.631578947368,
          5011.403508771929,
          null,
          2821.929824561403,
          null,
          null,
          4555.263157894737,
          2457.017543859649,
          null,
          5011.403508771929,
          3825.438596491228,
          null,
          5102.631578947368,
          5102.631578947368,
          null,
          814.9122807017543,
          723.6842105263158,
          null,
          1362.280701754386,
          1271.0526315789473,
          null,
          2457.017543859649,
          814.9122807017543,
          null,
          5285.087719298245,
          5682.142857142857,
          null,
          4828.9473684210525,
          4828.9473684210525,
          null,
          3825.438596491228,
          3642.982456140351,
          null,
          2730.7017543859647,
          3095.6140350877195,
          null,
          321.42857142857144,
          723.6842105263158,
          null
         ]
        },
        {
         "marker": {
          "color": "darkblue",
          "size": 10,
          "symbol": [
           "circle",
           "arrow-right",
           "arrow-right",
           "circle",
           "arrow-right",
           "arrow-right",
           "circle",
           "arrow-right",
           "arrow-right",
           "circle",
           "arrow-right",
           "arrow-right",
           "circle",
           "arrow-right",
           "arrow-right",
           "circle",
           "arrow-right",
           "arrow-right",
           "circle",
           "arrow-right",
           "arrow-right",
           "circle",
           "arrow-right",
           "arrow-right",
           "circle",
           "arrow-right",
           "arrow-right",
           "circle",
           "arrow-right",
           "arrow-right",
           "circle",
           "arrow-right",
           "arrow-right",
           "circle",
           "arrow-right",
           "arrow-right",
           "circle",
           "arrow-right",
           "arrow-right",
           "circle",
           "arrow-right",
           "arrow-right",
           "circle",
           "arrow-right",
           "arrow-right",
           "circle",
           "arrow-right",
           "arrow-right",
           "circle",
           "arrow-right",
           "arrow-right",
           "circle",
           "arrow-right",
           "arrow-right",
           "circle",
           "arrow-right",
           "arrow-right",
           "circle",
           "arrow-right",
           "arrow-right",
           "circle",
           "arrow-right",
           "arrow-right",
           "circle",
           "arrow-right",
           "arrow-right",
           "circle",
           "arrow-right",
           "arrow-right"
          ]
         },
         "mode": "markers+lines",
         "name": "Slow Lift",
         "type": "scatter",
         "x": [
          380,
          12776.666666666666,
          null,
          3186.1111111111113,
          12903.333333333334,
          null,
          4288.888888888889,
          13030,
          null,
          4509.444444444444,
          13030,
          null,
          4730,
          12776.666666666666,
          null,
          2083.333333333333,
          13156.666666666666,
          null,
          2524.4444444444443,
          13283.333333333334,
          null,
          2965.5555555555557,
          13030,
          null,
          4288.888888888889,
          13030,
          null,
          4068.3333333333335,
          13030,
          null,
          2965.5555555555557,
          13030,
          null,
          4509.444444444444,
          9130,
          null,
          4509.444444444444,
          12903.333333333334,
          null,
          2083.333333333333,
          12650,
          null,
          380,
          11550,
          null,
          4730,
          12776.666666666666,
          null,
          4730,
          13030,
          null,
          4730,
          12903.333333333334,
          null,
          1862.7777777777778,
          13030,
          null,
          1862.7777777777778,
          11550,
          null,
          2083.333333333333,
          12903.333333333334,
          null,
          1862.7777777777778,
          11330,
          null,
          1862.7777777777778,
          12776.666666666666,
          null
         ],
         "y": [
          2092.1052631578946,
          1453.5087719298244,
          null,
          1635.9649122807016,
          3551.754385964912,
          null,
          2730.7017543859647,
          3916.6666666666665,
          null,
          2274.561403508772,
          4281.578947368421,
          null,
          2365.7894736842104,
          1362.280701754386,
          null,
          450,
          1271.0526315789473,
          null,
          1088.5964912280701,
          6035.714285714285,
          null,
          2183.333333333333,
          2000.877192982456,
          null,
          2365.7894736842104,
          1362.280701754386,
          null,
          1179.8245614035086,
          2730.7017543859647,
          null,
          2274.561403508772,
          3734.210526315789,
          null,
          3095.6140350877195,
          1909.6491228070174,
          null,
          3004.3859649122805,
          4099.122807017544,
          null,
          1727.1929824561403,
          5467.543859649123,
          null,
          4555.263157894737,
          5285.087719298245,
          null,
          5102.631578947368,
          723.6842105263158,
          null,
          4737.7192982456145,
          4281.578947368421,
          null,
          4099.122807017544,
          1179.8245614035086,
          null,
          1271.0526315789473,
          2639.4736842105262,
          null,
          5376.315789473684,
          4828.9473684210525,
          null,
          4920.175438596491,
          4372.80701754386,
          null,
          906.140350877193,
          1271.0526315789473,
          null,
          2183.333333333333,
          3916.6666666666665,
          null
         ]
        },
        {
         "marker": {
          "color": "greenyellow",
          "size": 10,
          "symbol": [
           "circle",
           "arrow-right",
           "arrow-right",
           "circle",
           "arrow-right",
           "arrow-right",
           "circle",
           "arrow-right",
           "arrow-right",
           "circle",
           "arrow-right",
           "arrow-right",
           "circle",
           "arrow-right",
           "arrow-right",
           "circle",
           "arrow-right",
           "arrow-right"
          ]
         },
         "mode": "markers+lines",
         "name": "Drive Down",
         "type": "scatter",
         "x": [
          3186.1111111111113,
          10890,
          null,
          3627.222222222222,
          11110,
          null,
          3627.222222222222,
          11110,
          null,
          3627.222222222222,
          11550,
          null,
          2965.5555555555557,
          10450,
          null,
          4730,
          11550,
          null
         ],
         "y": [
          1088.5964912280701,
          1179.8245614035086,
          null,
          4555.263157894737,
          4920.175438596491,
          null,
          1453.5087719298244,
          1453.5087719298244,
          null,
          997.3684210526316,
          3551.754385964912,
          null,
          3642.982456140351,
          814.9122807017543,
          null,
          3551.754385964912,
          3095.6140350877195,
          null
         ]
        },
        {
         "marker": {
          "color": "blue",
          "size": 10,
          "symbol": [
           "circle",
           "arrow-right",
           "arrow-right",
           "circle",
           "arrow-right",
           "arrow-right",
           "circle",
           "arrow-right",
           "arrow-right",
           "circle",
           "arrow-right",
           "arrow-right"
          ]
         },
         "mode": "markers+lines",
         "name": "Fast Lift",
         "type": "scatter",
         "x": [
          2965.5555555555557,
          12430,
          null,
          2083.333333333333,
          11550,
          null,
          2083.333333333333,
          11330,
          null,
          2745,
          12650,
          null
         ],
         "y": [
          1271.0526315789473,
          3642.982456140351,
          null,
          2092.1052631578946,
          2639.4736842105262,
          null,
          5376.315789473684,
          5376.315789473684,
          null,
          4920.175438596491,
          4828.9473684210525,
          null
         ]
        },
        {
         "marker": {
          "color": "green",
          "size": 10,
          "symbol": [
           "circle",
           "arrow-right",
           "arrow-right",
           "circle",
           "arrow-right",
           "arrow-right",
           "circle",
           "arrow-right",
           "arrow-right",
           "circle",
           "arrow-right",
           "arrow-right",
           "circle",
           "arrow-right",
           "arrow-right",
           "circle",
           "arrow-right",
           "arrow-right"
          ]
         },
         "mode": "markers+lines",
         "name": "Drive Up",
         "type": "scatter",
         "x": [
          3847.777777777778,
          12210,
          null,
          3406.6666666666665,
          9350,
          null,
          4509.444444444444,
          10230,
          null,
          2524.4444444444443,
          10890,
          null,
          1862.7777777777778,
          8910,
          null,
          2745,
          10010,
          null
         ],
         "y": [
          3095.6140350877195,
          1635.9649122807016,
          null,
          5011.403508771929,
          1818.421052631579,
          null,
          3642.982456140351,
          3551.754385964912,
          null,
          1544.7368421052631,
          2639.4736842105262,
          null,
          5285.087719298245,
          5376.315789473684,
          null,
          2274.561403508772,
          1727.1929824561403,
          null
         ]
        },
        {
         "marker": {
          "color": "darkorange",
          "size": 10,
          "symbol": [
           "circle",
           "arrow-right",
           "arrow-right",
           "circle",
           "arrow-right",
           "arrow-right",
           "circle",
           "arrow-right",
           "arrow-right",
           "circle",
           "arrow-right",
           "arrow-right",
           "circle",
           "arrow-right",
           "arrow-right",
           "circle",
           "arrow-right",
           "arrow-right",
           "circle",
           "arrow-right",
           "arrow-right",
           "circle",
           "arrow-right",
           "arrow-right",
           "circle",
           "arrow-right",
           "arrow-right",
           "circle",
           "arrow-right",
           "arrow-right"
          ]
         },
         "mode": "markers+lines",
         "name": "Fast Drop",
         "type": "scatter",
         "x": [
          633.3333333333334,
          9130,
          null,
          380,
          8910,
          null,
          380,
          8910,
          null,
          3186.1111111111113,
          8690,
          null,
          4288.888888888889,
          8407.142857142857,
          null,
          1201.111111111111,
          8690,
          null,
          380,
          8690,
          null,
          4730,
          8910,
          null,
          4730,
          8910,
          null,
          380,
          8690,
          null
         ],
         "y": [
          2457.017543859649,
          4737.7192982456145,
          null,
          1179.8245614035086,
          4464.035087719298,
          null,
          4281.578947368421,
          3186.842105263158,
          null,
          1179.8245614035086,
          997.3684210526316,
          null,
          4464.035087719298,
          1179.8245614035086,
          null,
          1088.5964912280701,
          1909.6491228070174,
          null,
          1544.7368421052631,
          1271.0526315789473,
          null,
          2365.7894736842104,
          1088.5964912280701,
          null,
          3642.982456140351,
          3004.3859649122805,
          null,
          2639.4736842105262,
          632.4561403508771,
          null
         ]
        },
        {
         "marker": {
          "color": "orangered",
          "size": 10,
          "symbol": [
           "circle",
           "arrow-right",
           "arrow-right"
          ]
         },
         "mode": "markers+lines",
         "name": "Half Smash",
         "type": "scatter",
         "x": [
          2303.8888888888887,
          null,
          null
         ],
         "y": [
          1179.8245614035086,
          null,
          null
         ]
        }
       ],
       "layout": {
        "height": 870,
        "legend": {
         "itemclick": "toggle",
         "itemdoubleclick": "toggleothers"
        },
        "paper_bgcolor": "black",
        "plot_bgcolor": "black",
        "shapes": [
         {
          "layer": "above",
          "line": {
           "color": "#777777",
           "width": 3
          },
          "type": "rect",
          "x0": 0,
          "x1": 13410,
          "y0": 6100,
          "y1": 0
         },
         {
          "layer": "above",
          "line": {
           "color": "#777777",
           "width": 3
          },
          "type": "line",
          "x0": 0,
          "x1": 13410,
          "y0": 450,
          "y1": 450
         },
         {
          "layer": "above",
          "line": {
           "color": "#777777",
           "width": 3
          },
          "type": "line",
          "x0": 0,
          "x1": 13410,
          "y0": 5650,
          "y1": 5650
         },
         {
          "layer": "above",
          "line": {
           "color": "#777777",
           "width": 3
          },
          "type": "line",
          "x0": 4730,
          "x1": 4730,
          "y0": 0,
          "y1": 6100
         },
         {
          "layer": "above",
          "line": {
           "color": "#777777",
           "width": 3
          },
          "type": "line",
          "x0": 8690,
          "x1": 8690,
          "y0": 0,
          "y1": 6100
         },
         {
          "layer": "above",
          "line": {
           "color": "#777777",
           "width": 3
          },
          "type": "line",
          "x0": 760,
          "x1": 760,
          "y0": 0,
          "y1": 6100
         },
         {
          "layer": "above",
          "line": {
           "color": "#777777",
           "width": 3
          },
          "type": "line",
          "x0": 12650,
          "x1": 12650,
          "y0": 0,
          "y1": 6100
         },
         {
          "layer": "above",
          "line": {
           "color": "#777777",
           "width": 3
          },
          "type": "line",
          "x0": 0,
          "x1": 4730,
          "y0": 3050,
          "y1": 3050
         },
         {
          "layer": "above",
          "line": {
           "color": "#777777",
           "width": 3
          },
          "type": "line",
          "x0": 8690,
          "x1": 13410,
          "y0": 3050,
          "y1": 3050
         },
         {
          "layer": "above",
          "line": {
           "color": "#777777",
           "dash": "dash",
           "width": 3
          },
          "type": "line",
          "x0": 6710,
          "x1": 6710,
          "y0": 0,
          "y1": 6100
         }
        ],
        "showlegend": true,
        "template": {
         "data": {
          "bar": [
           {
            "error_x": {
             "color": "#f2f5fa"
            },
            "error_y": {
             "color": "#f2f5fa"
            },
            "marker": {
             "line": {
              "color": "rgb(17,17,17)",
              "width": 0.5
             },
             "pattern": {
              "fillmode": "overlay",
              "size": 10,
              "solidity": 0.2
             }
            },
            "type": "bar"
           }
          ],
          "barpolar": [
           {
            "marker": {
             "line": {
              "color": "rgb(17,17,17)",
              "width": 0.5
             },
             "pattern": {
              "fillmode": "overlay",
              "size": 10,
              "solidity": 0.2
             }
            },
            "type": "barpolar"
           }
          ],
          "carpet": [
           {
            "aaxis": {
             "endlinecolor": "#A2B1C6",
             "gridcolor": "#506784",
             "linecolor": "#506784",
             "minorgridcolor": "#506784",
             "startlinecolor": "#A2B1C6"
            },
            "baxis": {
             "endlinecolor": "#A2B1C6",
             "gridcolor": "#506784",
             "linecolor": "#506784",
             "minorgridcolor": "#506784",
             "startlinecolor": "#A2B1C6"
            },
            "type": "carpet"
           }
          ],
          "choropleth": [
           {
            "colorbar": {
             "outlinewidth": 0,
             "ticks": ""
            },
            "type": "choropleth"
           }
          ],
          "contour": [
           {
            "colorbar": {
             "outlinewidth": 0,
             "ticks": ""
            },
            "colorscale": [
             [
              0,
              "#0d0887"
             ],
             [
              0.1111111111111111,
              "#46039f"
             ],
             [
              0.2222222222222222,
              "#7201a8"
             ],
             [
              0.3333333333333333,
              "#9c179e"
             ],
             [
              0.4444444444444444,
              "#bd3786"
             ],
             [
              0.5555555555555556,
              "#d8576b"
             ],
             [
              0.6666666666666666,
              "#ed7953"
             ],
             [
              0.7777777777777778,
              "#fb9f3a"
             ],
             [
              0.8888888888888888,
              "#fdca26"
             ],
             [
              1,
              "#f0f921"
             ]
            ],
            "type": "contour"
           }
          ],
          "contourcarpet": [
           {
            "colorbar": {
             "outlinewidth": 0,
             "ticks": ""
            },
            "type": "contourcarpet"
           }
          ],
          "heatmap": [
           {
            "colorbar": {
             "outlinewidth": 0,
             "ticks": ""
            },
            "colorscale": [
             [
              0,
              "#0d0887"
             ],
             [
              0.1111111111111111,
              "#46039f"
             ],
             [
              0.2222222222222222,
              "#7201a8"
             ],
             [
              0.3333333333333333,
              "#9c179e"
             ],
             [
              0.4444444444444444,
              "#bd3786"
             ],
             [
              0.5555555555555556,
              "#d8576b"
             ],
             [
              0.6666666666666666,
              "#ed7953"
             ],
             [
              0.7777777777777778,
              "#fb9f3a"
             ],
             [
              0.8888888888888888,
              "#fdca26"
             ],
             [
              1,
              "#f0f921"
             ]
            ],
            "type": "heatmap"
           }
          ],
          "heatmapgl": [
           {
            "colorbar": {
             "outlinewidth": 0,
             "ticks": ""
            },
            "colorscale": [
             [
              0,
              "#0d0887"
             ],
             [
              0.1111111111111111,
              "#46039f"
             ],
             [
              0.2222222222222222,
              "#7201a8"
             ],
             [
              0.3333333333333333,
              "#9c179e"
             ],
             [
              0.4444444444444444,
              "#bd3786"
             ],
             [
              0.5555555555555556,
              "#d8576b"
             ],
             [
              0.6666666666666666,
              "#ed7953"
             ],
             [
              0.7777777777777778,
              "#fb9f3a"
             ],
             [
              0.8888888888888888,
              "#fdca26"
             ],
             [
              1,
              "#f0f921"
             ]
            ],
            "type": "heatmapgl"
           }
          ],
          "histogram": [
           {
            "marker": {
             "pattern": {
              "fillmode": "overlay",
              "size": 10,
              "solidity": 0.2
             }
            },
            "type": "histogram"
           }
          ],
          "histogram2d": [
           {
            "colorbar": {
             "outlinewidth": 0,
             "ticks": ""
            },
            "colorscale": [
             [
              0,
              "#0d0887"
             ],
             [
              0.1111111111111111,
              "#46039f"
             ],
             [
              0.2222222222222222,
              "#7201a8"
             ],
             [
              0.3333333333333333,
              "#9c179e"
             ],
             [
              0.4444444444444444,
              "#bd3786"
             ],
             [
              0.5555555555555556,
              "#d8576b"
             ],
             [
              0.6666666666666666,
              "#ed7953"
             ],
             [
              0.7777777777777778,
              "#fb9f3a"
             ],
             [
              0.8888888888888888,
              "#fdca26"
             ],
             [
              1,
              "#f0f921"
             ]
            ],
            "type": "histogram2d"
           }
          ],
          "histogram2dcontour": [
           {
            "colorbar": {
             "outlinewidth": 0,
             "ticks": ""
            },
            "colorscale": [
             [
              0,
              "#0d0887"
             ],
             [
              0.1111111111111111,
              "#46039f"
             ],
             [
              0.2222222222222222,
              "#7201a8"
             ],
             [
              0.3333333333333333,
              "#9c179e"
             ],
             [
              0.4444444444444444,
              "#bd3786"
             ],
             [
              0.5555555555555556,
              "#d8576b"
             ],
             [
              0.6666666666666666,
              "#ed7953"
             ],
             [
              0.7777777777777778,
              "#fb9f3a"
             ],
             [
              0.8888888888888888,
              "#fdca26"
             ],
             [
              1,
              "#f0f921"
             ]
            ],
            "type": "histogram2dcontour"
           }
          ],
          "mesh3d": [
           {
            "colorbar": {
             "outlinewidth": 0,
             "ticks": ""
            },
            "type": "mesh3d"
           }
          ],
          "parcoords": [
           {
            "line": {
             "colorbar": {
              "outlinewidth": 0,
              "ticks": ""
             }
            },
            "type": "parcoords"
           }
          ],
          "pie": [
           {
            "automargin": true,
            "type": "pie"
           }
          ],
          "scatter": [
           {
            "marker": {
             "line": {
              "color": "#283442"
             }
            },
            "type": "scatter"
           }
          ],
          "scatter3d": [
           {
            "line": {
             "colorbar": {
              "outlinewidth": 0,
              "ticks": ""
             }
            },
            "marker": {
             "colorbar": {
              "outlinewidth": 0,
              "ticks": ""
             }
            },
            "type": "scatter3d"
           }
          ],
          "scattercarpet": [
           {
            "marker": {
             "colorbar": {
              "outlinewidth": 0,
              "ticks": ""
             }
            },
            "type": "scattercarpet"
           }
          ],
          "scattergeo": [
           {
            "marker": {
             "colorbar": {
              "outlinewidth": 0,
              "ticks": ""
             }
            },
            "type": "scattergeo"
           }
          ],
          "scattergl": [
           {
            "marker": {
             "line": {
              "color": "#283442"
             }
            },
            "type": "scattergl"
           }
          ],
          "scattermapbox": [
           {
            "marker": {
             "colorbar": {
              "outlinewidth": 0,
              "ticks": ""
             }
            },
            "type": "scattermapbox"
           }
          ],
          "scatterpolar": [
           {
            "marker": {
             "colorbar": {
              "outlinewidth": 0,
              "ticks": ""
             }
            },
            "type": "scatterpolar"
           }
          ],
          "scatterpolargl": [
           {
            "marker": {
             "colorbar": {
              "outlinewidth": 0,
              "ticks": ""
             }
            },
            "type": "scatterpolargl"
           }
          ],
          "scatterternary": [
           {
            "marker": {
             "colorbar": {
              "outlinewidth": 0,
              "ticks": ""
             }
            },
            "type": "scatterternary"
           }
          ],
          "surface": [
           {
            "colorbar": {
             "outlinewidth": 0,
             "ticks": ""
            },
            "colorscale": [
             [
              0,
              "#0d0887"
             ],
             [
              0.1111111111111111,
              "#46039f"
             ],
             [
              0.2222222222222222,
              "#7201a8"
             ],
             [
              0.3333333333333333,
              "#9c179e"
             ],
             [
              0.4444444444444444,
              "#bd3786"
             ],
             [
              0.5555555555555556,
              "#d8576b"
             ],
             [
              0.6666666666666666,
              "#ed7953"
             ],
             [
              0.7777777777777778,
              "#fb9f3a"
             ],
             [
              0.8888888888888888,
              "#fdca26"
             ],
             [
              1,
              "#f0f921"
             ]
            ],
            "type": "surface"
           }
          ],
          "table": [
           {
            "cells": {
             "fill": {
              "color": "#506784"
             },
             "line": {
              "color": "rgb(17,17,17)"
             }
            },
            "header": {
             "fill": {
              "color": "#2a3f5f"
             },
             "line": {
              "color": "rgb(17,17,17)"
             }
            },
            "type": "table"
           }
          ]
         },
         "layout": {
          "annotationdefaults": {
           "arrowcolor": "#f2f5fa",
           "arrowhead": 0,
           "arrowwidth": 1
          },
          "autotypenumbers": "strict",
          "coloraxis": {
           "colorbar": {
            "outlinewidth": 0,
            "ticks": ""
           }
          },
          "colorscale": {
           "diverging": [
            [
             0,
             "#8e0152"
            ],
            [
             0.1,
             "#c51b7d"
            ],
            [
             0.2,
             "#de77ae"
            ],
            [
             0.3,
             "#f1b6da"
            ],
            [
             0.4,
             "#fde0ef"
            ],
            [
             0.5,
             "#f7f7f7"
            ],
            [
             0.6,
             "#e6f5d0"
            ],
            [
             0.7,
             "#b8e186"
            ],
            [
             0.8,
             "#7fbc41"
            ],
            [
             0.9,
             "#4d9221"
            ],
            [
             1,
             "#276419"
            ]
           ],
           "sequential": [
            [
             0,
             "#0d0887"
            ],
            [
             0.1111111111111111,
             "#46039f"
            ],
            [
             0.2222222222222222,
             "#7201a8"
            ],
            [
             0.3333333333333333,
             "#9c179e"
            ],
            [
             0.4444444444444444,
             "#bd3786"
            ],
            [
             0.5555555555555556,
             "#d8576b"
            ],
            [
             0.6666666666666666,
             "#ed7953"
            ],
            [
             0.7777777777777778,
             "#fb9f3a"
            ],
            [
             0.8888888888888888,
             "#fdca26"
            ],
            [
             1,
             "#f0f921"
            ]
           ],
           "sequentialminus": [
            [
             0,
             "#0d0887"
            ],
            [
             0.1111111111111111,
             "#46039f"
            ],
            [
             0.2222222222222222,
             "#7201a8"
            ],
            [
             0.3333333333333333,
             "#9c179e"
            ],
            [
             0.4444444444444444,
             "#bd3786"
            ],
            [
             0.5555555555555556,
             "#d8576b"
            ],
            [
             0.6666666666666666,
             "#ed7953"
            ],
            [
             0.7777777777777778,
             "#fb9f3a"
            ],
            [
             0.8888888888888888,
             "#fdca26"
            ],
            [
             1,
             "#f0f921"
            ]
           ]
          },
          "colorway": [
           "#636efa",
           "#EF553B",
           "#00cc96",
           "#ab63fa",
           "#FFA15A",
           "#19d3f3",
           "#FF6692",
           "#B6E880",
           "#FF97FF",
           "#FECB52"
          ],
          "font": {
           "color": "#f2f5fa"
          },
          "geo": {
           "bgcolor": "rgb(17,17,17)",
           "lakecolor": "rgb(17,17,17)",
           "landcolor": "rgb(17,17,17)",
           "showlakes": true,
           "showland": true,
           "subunitcolor": "#506784"
          },
          "hoverlabel": {
           "align": "left"
          },
          "hovermode": "closest",
          "mapbox": {
           "style": "dark"
          },
          "paper_bgcolor": "rgb(17,17,17)",
          "plot_bgcolor": "rgb(17,17,17)",
          "polar": {
           "angularaxis": {
            "gridcolor": "#506784",
            "linecolor": "#506784",
            "ticks": ""
           },
           "bgcolor": "rgb(17,17,17)",
           "radialaxis": {
            "gridcolor": "#506784",
            "linecolor": "#506784",
            "ticks": ""
           }
          },
          "scene": {
           "xaxis": {
            "backgroundcolor": "rgb(17,17,17)",
            "gridcolor": "#506784",
            "gridwidth": 2,
            "linecolor": "#506784",
            "showbackground": true,
            "ticks": "",
            "zerolinecolor": "#C8D4E3"
           },
           "yaxis": {
            "backgroundcolor": "rgb(17,17,17)",
            "gridcolor": "#506784",
            "gridwidth": 2,
            "linecolor": "#506784",
            "showbackground": true,
            "ticks": "",
            "zerolinecolor": "#C8D4E3"
           },
           "zaxis": {
            "backgroundcolor": "rgb(17,17,17)",
            "gridcolor": "#506784",
            "gridwidth": 2,
            "linecolor": "#506784",
            "showbackground": true,
            "ticks": "",
            "zerolinecolor": "#C8D4E3"
           }
          },
          "shapedefaults": {
           "line": {
            "color": "#f2f5fa"
           }
          },
          "sliderdefaults": {
           "bgcolor": "#C8D4E3",
           "bordercolor": "rgb(17,17,17)",
           "borderwidth": 1,
           "tickwidth": 0
          },
          "ternary": {
           "aaxis": {
            "gridcolor": "#506784",
            "linecolor": "#506784",
            "ticks": ""
           },
           "baxis": {
            "gridcolor": "#506784",
            "linecolor": "#506784",
            "ticks": ""
           },
           "bgcolor": "rgb(17,17,17)",
           "caxis": {
            "gridcolor": "#506784",
            "linecolor": "#506784",
            "ticks": ""
           }
          },
          "title": {
           "x": 0.05
          },
          "updatemenudefaults": {
           "bgcolor": "#506784",
           "borderwidth": 0
          },
          "xaxis": {
           "automargin": true,
           "gridcolor": "#283442",
           "linecolor": "#506784",
           "ticks": "",
           "title": {
            "standoff": 15
           },
           "zerolinecolor": "#283442",
           "zerolinewidth": 2
          },
          "yaxis": {
           "automargin": true,
           "gridcolor": "#283442",
           "linecolor": "#506784",
           "ticks": "",
           "title": {
            "standoff": 15
           },
           "zerolinecolor": "#283442",
           "zerolinewidth": 2
          }
         }
        },
        "title": {
         "text": "MFG - Shots - Game 1<br><br> <sup>Click legend once to hide trace, double click legend to isolate trace!</sup>"
        },
        "xaxis": {
         "range": [
          -200,
          13610
         ],
         "showgrid": false,
         "showline": false,
         "showticklabels": false,
         "ticks": "",
         "visible": false,
         "zeroline": false
        },
        "xaxis2": {
         "range": [
          6300,
          -200
         ],
         "showgrid": false,
         "showline": false,
         "showticklabels": false,
         "ticks": "",
         "visible": false,
         "zeroline": false
        },
        "yaxis": {
         "range": [
          6300,
          -200
         ],
         "scaleanchor": "x",
         "scaleratio": 1,
         "showgrid": false,
         "showline": false,
         "showticklabels": false,
         "ticks": "",
         "visible": false,
         "zeroline": false
        },
        "yaxis2": {
         "range": [
          6300,
          -200
         ],
         "scaleanchor": "x2",
         "showgrid": false,
         "showline": false,
         "showticklabels": false,
         "ticks": "",
         "visible": false,
         "zeroline": false
        }
       }
      }
     },
     "metadata": {},
     "output_type": "display_data"
    }
   ],
   "source": [
    "# plot shots\n",
    "fig = go.Figure()\n",
    "\n",
    "# draw badminton court\n",
    "draw_plotly_court(fig, show_title=True, labelticks=False, show_axis=False,\n",
    "                  glayer='above', bg_color='black', margins=200)\n",
    "\n",
    "shots = shots_team_1_player_0\n",
    "\n",
    "for shot_type in shots['Event'].unique(): # add trace for every shot type\n",
    "    \n",
    "    shots_by_type = shots.loc[shots['Event'] == shot_type]\n",
    "    \n",
    "    # convert coordinates\n",
    "    origin_x = list(map(map_values_x, shots_by_type['X']))\n",
    "    destination_x = list(map(map_values_x, shots_by_type['X2']))\n",
    "    origin_y = list(map(map_values_y, shots_by_type['Y']))\n",
    "    destination_y = list(map(map_values_y, shots_by_type['Y2']))\n",
    "    \n",
    "    x = []\n",
    "    y = []\n",
    "    symbol = []\n",
    "    \n",
    "    for i in range(len(shots_by_type)):\n",
    "        x.append(origin_x[i])\n",
    "        x.append(destination_x[i])\n",
    "        x.append(None)\n",
    "        y.append(origin_y[i])\n",
    "        y.append(destination_y[i])\n",
    "        y.append(None)\n",
    "        symbol.append('circle')\n",
    "        symbol.append('arrow-right')\n",
    "        symbol.append('arrow-right')\n",
    "        \n",
    "    \n",
    "    color = assign_color_by_shot_type(shots_by_type['Event'])[0]\n",
    "    \n",
    "    fig.add_trace(go.Scatter(\n",
    "        x=x,\n",
    "        y=y,\n",
    "        mode='markers+lines',\n",
    "        marker=dict(\n",
    "            color=color,\n",
    "            size=10,\n",
    "            symbol=symbol\n",
    "        ),\n",
    "        # text=shots_by_type['Event'],\n",
    "        name=shot_type,\n",
    "        # visible='legendonly'\n",
    "    ))\n",
    "\n",
    "# Add figure title\n",
    "fig.update_layout(\n",
    "    showlegend=True,\n",
    "    legend=dict(\n",
    "        itemclick='toggle',\n",
    "        itemdoubleclick='toggleothers'\n",
    "    ),\n",
    "    title_text= shots['Player'].iloc[0] \n",
    "                + \" - Shots - Game 1\" \n",
    "                + \"<br><br> <sup>Click legend once to hide trace, double click legend to isolate trace!</sup>\"\n",
    ")\n",
    "\n",
    "fig.show()"
   ]
  },
  {
   "cell_type": "code",
   "execution_count": null,
   "metadata": {},
   "outputs": [],
   "source": [
    "# plot shots\n",
    "fig = go.Figure()\n",
    "\n",
    "# draw badminton court\n",
    "draw_plotly_court(fig, show_title=True, labelticks=False, show_axis=False,\n",
    "                  glayer='above', bg_color='black', margins=200)\n",
    "\n",
    "shots = shots_team_1_player_1\n",
    "\n",
    "for shot_type in shots['Event'].unique(): # add trace for every shot type\n",
    "    \n",
    "    shots_by_type = shots.loc[shots['Event'] == shot_type]\n",
    "    \n",
    "    # convert coordinates\n",
    "    x = list(map(map_values_x, shots_by_type['X']))\n",
    "    y = list(map(map_values_y, shots_by_type['Y']))\n",
    "    \n",
    "    color = assign_color_by_shot_type(shots_by_type['Event'])\n",
    "    \n",
    "    fig.add_trace(go.Scatter(\n",
    "        x=x,\n",
    "        y=y,\n",
    "        mode='markers',\n",
    "        marker=dict(\n",
    "            color=color,\n",
    "            size=10\n",
    "        ),\n",
    "        # text=shots_by_type['Event'],\n",
    "        name=shot_type,\n",
    "        # visible='legendonly'\n",
    "    ))\n",
    "\n",
    "# Add figure title\n",
    "fig.update_layout(\n",
    "    showlegend=True,\n",
    "    legend=dict(\n",
    "        itemclick='toggle',\n",
    "        itemdoubleclick='toggleothers'\n",
    "    ),\n",
    "    title_text= shots['Player'].iloc[0] \n",
    "                + \" - Shots Origin - Game 1\" \n",
    "                + \"<br><br> <sup>Click legend once to hide trace, double click legend to isolate trace!</sup>\"\n",
    ")\n",
    "\n",
    "fig.show()"
   ]
  },
  {
   "attachments": {},
   "cell_type": "markdown",
   "metadata": {},
   "source": [
    "##"
   ]
  }
 ],
 "metadata": {
  "kernelspec": {
   "display_name": "Python 3",
   "language": "python",
   "name": "python3"
  },
  "language_info": {
   "codemirror_mode": {
    "name": "ipython",
    "version": 3
   },
   "file_extension": ".py",
   "mimetype": "text/x-python",
   "name": "python",
   "nbconvert_exporter": "python",
   "pygments_lexer": "ipython3",
   "version": "3.11.9"
  },
  "orig_nbformat": 4
 },
 "nbformat": 4,
 "nbformat_minor": 2
}
